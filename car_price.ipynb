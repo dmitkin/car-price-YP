{
 "cells": [
  {
   "cell_type": "markdown",
   "metadata": {},
   "source": [
    "# Определение стоимости автомобилей"
   ]
  },
  {
   "cell_type": "markdown",
   "metadata": {},
   "source": [
    "Сервис по продаже автомобилей с пробегом разрабатывает приложение для привлечения новых клиентов. В нём можно быстро узнать рыночную стоимость своего автомобиля. \n",
    "\n",
    "Необходимо построить модель для определения стоимости. В нашем распоряжении исторические данные: технические характеристики, комплектации и цены автомобилей.  \n",
    "\n",
    "Заказчику важны:\n",
    "\n",
    "- качество предсказания;\n",
    "- скорость предсказания;\n",
    "- время обучения."
   ]
  },
  {
   "cell_type": "markdown",
   "metadata": {},
   "source": [
    "## Подготовка данных"
   ]
  },
  {
   "cell_type": "code",
   "execution_count": 47,
   "metadata": {},
   "outputs": [],
   "source": [
    "import pandas as pd\n",
    "import numpy as np\n",
    "import matplotlib.pyplot as plt\n",
    "from sklearn.model_selection import train_test_split\n",
    "from sklearn.model_selection import cross_val_score\n",
    "from sklearn.model_selection import GridSearchCV\n",
    "from sklearn.metrics import mean_squared_error\n",
    "from sklearn.metrics import make_scorer\n",
    "from sklearn.linear_model import LinearRegression\n",
    "from sklearn.ensemble import RandomForestRegressor\n",
    "from sklearn.preprocessing import OrdinalEncoder\n",
    "import lightgbm as lgb"
   ]
  },
  {
   "cell_type": "markdown",
   "metadata": {},
   "source": [
    "Изучим предоставленные данные."
   ]
  },
  {
   "cell_type": "code",
   "execution_count": 2,
   "metadata": {},
   "outputs": [],
   "source": [
    "df = pd.read_csv('/datasets/autos.csv')"
   ]
  },
  {
   "cell_type": "code",
   "execution_count": 3,
   "metadata": {},
   "outputs": [
    {
     "data": {
      "text/html": [
       "<div>\n",
       "<style scoped>\n",
       "    .dataframe tbody tr th:only-of-type {\n",
       "        vertical-align: middle;\n",
       "    }\n",
       "\n",
       "    .dataframe tbody tr th {\n",
       "        vertical-align: top;\n",
       "    }\n",
       "\n",
       "    .dataframe thead th {\n",
       "        text-align: right;\n",
       "    }\n",
       "</style>\n",
       "<table border=\"1\" class=\"dataframe\">\n",
       "  <thead>\n",
       "    <tr style=\"text-align: right;\">\n",
       "      <th></th>\n",
       "      <th>DateCrawled</th>\n",
       "      <th>Price</th>\n",
       "      <th>VehicleType</th>\n",
       "      <th>RegistrationYear</th>\n",
       "      <th>Gearbox</th>\n",
       "      <th>Power</th>\n",
       "      <th>Model</th>\n",
       "      <th>Kilometer</th>\n",
       "      <th>RegistrationMonth</th>\n",
       "      <th>FuelType</th>\n",
       "      <th>Brand</th>\n",
       "      <th>Repaired</th>\n",
       "      <th>DateCreated</th>\n",
       "      <th>NumberOfPictures</th>\n",
       "      <th>PostalCode</th>\n",
       "      <th>LastSeen</th>\n",
       "    </tr>\n",
       "  </thead>\n",
       "  <tbody>\n",
       "    <tr>\n",
       "      <th>0</th>\n",
       "      <td>2016-03-24 11:52:17</td>\n",
       "      <td>480</td>\n",
       "      <td>NaN</td>\n",
       "      <td>1993</td>\n",
       "      <td>manual</td>\n",
       "      <td>0</td>\n",
       "      <td>golf</td>\n",
       "      <td>150000</td>\n",
       "      <td>0</td>\n",
       "      <td>petrol</td>\n",
       "      <td>volkswagen</td>\n",
       "      <td>NaN</td>\n",
       "      <td>2016-03-24 00:00:00</td>\n",
       "      <td>0</td>\n",
       "      <td>70435</td>\n",
       "      <td>2016-04-07 03:16:57</td>\n",
       "    </tr>\n",
       "    <tr>\n",
       "      <th>1</th>\n",
       "      <td>2016-03-24 10:58:45</td>\n",
       "      <td>18300</td>\n",
       "      <td>coupe</td>\n",
       "      <td>2011</td>\n",
       "      <td>manual</td>\n",
       "      <td>190</td>\n",
       "      <td>NaN</td>\n",
       "      <td>125000</td>\n",
       "      <td>5</td>\n",
       "      <td>gasoline</td>\n",
       "      <td>audi</td>\n",
       "      <td>yes</td>\n",
       "      <td>2016-03-24 00:00:00</td>\n",
       "      <td>0</td>\n",
       "      <td>66954</td>\n",
       "      <td>2016-04-07 01:46:50</td>\n",
       "    </tr>\n",
       "    <tr>\n",
       "      <th>2</th>\n",
       "      <td>2016-03-14 12:52:21</td>\n",
       "      <td>9800</td>\n",
       "      <td>suv</td>\n",
       "      <td>2004</td>\n",
       "      <td>auto</td>\n",
       "      <td>163</td>\n",
       "      <td>grand</td>\n",
       "      <td>125000</td>\n",
       "      <td>8</td>\n",
       "      <td>gasoline</td>\n",
       "      <td>jeep</td>\n",
       "      <td>NaN</td>\n",
       "      <td>2016-03-14 00:00:00</td>\n",
       "      <td>0</td>\n",
       "      <td>90480</td>\n",
       "      <td>2016-04-05 12:47:46</td>\n",
       "    </tr>\n",
       "    <tr>\n",
       "      <th>3</th>\n",
       "      <td>2016-03-17 16:54:04</td>\n",
       "      <td>1500</td>\n",
       "      <td>small</td>\n",
       "      <td>2001</td>\n",
       "      <td>manual</td>\n",
       "      <td>75</td>\n",
       "      <td>golf</td>\n",
       "      <td>150000</td>\n",
       "      <td>6</td>\n",
       "      <td>petrol</td>\n",
       "      <td>volkswagen</td>\n",
       "      <td>no</td>\n",
       "      <td>2016-03-17 00:00:00</td>\n",
       "      <td>0</td>\n",
       "      <td>91074</td>\n",
       "      <td>2016-03-17 17:40:17</td>\n",
       "    </tr>\n",
       "    <tr>\n",
       "      <th>4</th>\n",
       "      <td>2016-03-31 17:25:20</td>\n",
       "      <td>3600</td>\n",
       "      <td>small</td>\n",
       "      <td>2008</td>\n",
       "      <td>manual</td>\n",
       "      <td>69</td>\n",
       "      <td>fabia</td>\n",
       "      <td>90000</td>\n",
       "      <td>7</td>\n",
       "      <td>gasoline</td>\n",
       "      <td>skoda</td>\n",
       "      <td>no</td>\n",
       "      <td>2016-03-31 00:00:00</td>\n",
       "      <td>0</td>\n",
       "      <td>60437</td>\n",
       "      <td>2016-04-06 10:17:21</td>\n",
       "    </tr>\n",
       "  </tbody>\n",
       "</table>\n",
       "</div>"
      ],
      "text/plain": [
       "           DateCrawled  Price VehicleType  RegistrationYear Gearbox  Power  \\\n",
       "0  2016-03-24 11:52:17    480         NaN              1993  manual      0   \n",
       "1  2016-03-24 10:58:45  18300       coupe              2011  manual    190   \n",
       "2  2016-03-14 12:52:21   9800         suv              2004    auto    163   \n",
       "3  2016-03-17 16:54:04   1500       small              2001  manual     75   \n",
       "4  2016-03-31 17:25:20   3600       small              2008  manual     69   \n",
       "\n",
       "   Model  Kilometer  RegistrationMonth  FuelType       Brand Repaired  \\\n",
       "0   golf     150000                  0    petrol  volkswagen      NaN   \n",
       "1    NaN     125000                  5  gasoline        audi      yes   \n",
       "2  grand     125000                  8  gasoline        jeep      NaN   \n",
       "3   golf     150000                  6    petrol  volkswagen       no   \n",
       "4  fabia      90000                  7  gasoline       skoda       no   \n",
       "\n",
       "           DateCreated  NumberOfPictures  PostalCode             LastSeen  \n",
       "0  2016-03-24 00:00:00                 0       70435  2016-04-07 03:16:57  \n",
       "1  2016-03-24 00:00:00                 0       66954  2016-04-07 01:46:50  \n",
       "2  2016-03-14 00:00:00                 0       90480  2016-04-05 12:47:46  \n",
       "3  2016-03-17 00:00:00                 0       91074  2016-03-17 17:40:17  \n",
       "4  2016-03-31 00:00:00                 0       60437  2016-04-06 10:17:21  "
      ]
     },
     "execution_count": 3,
     "metadata": {},
     "output_type": "execute_result"
    }
   ],
   "source": [
    "df.head()"
   ]
  },
  {
   "cell_type": "code",
   "execution_count": 4,
   "metadata": {},
   "outputs": [
    {
     "name": "stdout",
     "output_type": "stream",
     "text": [
      "<class 'pandas.core.frame.DataFrame'>\n",
      "RangeIndex: 354369 entries, 0 to 354368\n",
      "Data columns (total 16 columns):\n",
      " #   Column             Non-Null Count   Dtype \n",
      "---  ------             --------------   ----- \n",
      " 0   DateCrawled        354369 non-null  object\n",
      " 1   Price              354369 non-null  int64 \n",
      " 2   VehicleType        316879 non-null  object\n",
      " 3   RegistrationYear   354369 non-null  int64 \n",
      " 4   Gearbox            334536 non-null  object\n",
      " 5   Power              354369 non-null  int64 \n",
      " 6   Model              334664 non-null  object\n",
      " 7   Kilometer          354369 non-null  int64 \n",
      " 8   RegistrationMonth  354369 non-null  int64 \n",
      " 9   FuelType           321474 non-null  object\n",
      " 10  Brand              354369 non-null  object\n",
      " 11  Repaired           283215 non-null  object\n",
      " 12  DateCreated        354369 non-null  object\n",
      " 13  NumberOfPictures   354369 non-null  int64 \n",
      " 14  PostalCode         354369 non-null  int64 \n",
      " 15  LastSeen           354369 non-null  object\n",
      "dtypes: int64(7), object(9)\n",
      "memory usage: 43.3+ MB\n"
     ]
    }
   ],
   "source": [
    "df.info()"
   ]
  },
  {
   "cell_type": "markdown",
   "metadata": {},
   "source": [
    "### Предобработка данных."
   ]
  },
  {
   "cell_type": "markdown",
   "metadata": {},
   "source": [
    "В данных присутствуют пропуски в следующих столбцах: `VehicleType`, `Gearbox`, `Model`, `FuelType`, `Repaired`.\n",
    "\n",
    "Наибольшее количество пропусков наблюдается в колонке `Repaired`. Удалив объекты с пропусками нам удастся сохранить менее 80% данных."
   ]
  },
  {
   "cell_type": "markdown",
   "metadata": {},
   "source": [
    "Можно пойти другим путем и заполнить пропуски исходя из наших предположений, так, например, в колонке `Repaired` объекты с пустыми значениями могут быть отмечены автомобили не подвергшиеся ремонту, однако такой подход довольно рискован.\n",
    "\n",
    "Так как признаки с пропусками категориальные, заполним пустые значения заглушками."
   ]
  },
  {
   "cell_type": "code",
   "execution_count": 5,
   "metadata": {},
   "outputs": [
    {
     "data": {
      "text/plain": [
       "array(['golf', nan, 'grand', 'fabia', '3er', '2_reihe', 'other', 'c_max',\n",
       "       '3_reihe', 'passat', 'navara', 'ka', 'polo', 'twingo', 'a_klasse',\n",
       "       'scirocco', '5er', 'meriva', 'arosa', 'c4', 'civic', 'transporter',\n",
       "       'punto', 'e_klasse', 'clio', 'kadett', 'kangoo', 'corsa', 'one',\n",
       "       'fortwo', '1er', 'b_klasse', 'signum', 'astra', 'a8', 'jetta',\n",
       "       'fiesta', 'c_klasse', 'micra', 'vito', 'sprinter', '156', 'escort',\n",
       "       'forester', 'xc_reihe', 'scenic', 'a4', 'a1', 'insignia', 'combo',\n",
       "       'focus', 'tt', 'a6', 'jazz', 'omega', 'slk', '7er', '80', '147',\n",
       "       '100', 'z_reihe', 'sportage', 'sorento', 'v40', 'ibiza', 'mustang',\n",
       "       'eos', 'touran', 'getz', 'a3', 'almera', 'megane', 'lupo', 'r19',\n",
       "       'zafira', 'caddy', 'mondeo', 'cordoba', 'colt', 'impreza',\n",
       "       'vectra', 'berlingo', 'tiguan', 'i_reihe', 'espace', 'sharan',\n",
       "       '6_reihe', 'panda', 'up', 'seicento', 'ceed', '5_reihe', 'yeti',\n",
       "       'octavia', 'mii', 'rx_reihe', '6er', 'modus', 'fox', 'matiz',\n",
       "       'beetle', 'c1', 'rio', 'touareg', 'logan', 'spider', 'cuore',\n",
       "       's_max', 'a2', 'galaxy', 'c3', 'viano', 's_klasse', '1_reihe',\n",
       "       'avensis', 'roomster', 'sl', 'kaefer', 'santa', 'cooper', 'leon',\n",
       "       '4_reihe', 'a5', '500', 'laguna', 'ptcruiser', 'clk', 'primera',\n",
       "       'x_reihe', 'exeo', '159', 'transit', 'juke', 'qashqai', 'carisma',\n",
       "       'accord', 'corolla', 'lanos', 'phaeton', 'verso', 'swift', 'rav',\n",
       "       'picanto', 'boxster', 'kalos', 'superb', 'stilo', 'alhambra',\n",
       "       'mx_reihe', 'roadster', 'ypsilon', 'cayenne', 'galant', 'justy',\n",
       "       '90', 'sirion', 'crossfire', 'agila', 'duster', 'cr_reihe', 'v50',\n",
       "       'c_reihe', 'v_klasse', 'm_klasse', 'yaris', 'c5', 'aygo', 'cc',\n",
       "       'carnival', 'fusion', '911', 'bora', 'forfour', 'm_reihe', 'cl',\n",
       "       'tigra', '300c', 'spark', 'v70', 'kuga', 'x_type', 'ducato',\n",
       "       's_type', 'x_trail', 'toledo', 'altea', 'voyager', 'calibra',\n",
       "       'bravo', 'antara', 'tucson', 'citigo', 'jimny', 'wrangler',\n",
       "       'lybra', 'q7', 'lancer', 'captiva', 'c2', 'discovery',\n",
       "       'freelander', 'sandero', 'note', '900', 'cherokee', 'clubman',\n",
       "       'samara', 'defender', '601', 'cx_reihe', 'legacy', 'pajero',\n",
       "       'auris', 'niva', 's60', 'nubira', 'vivaro', 'g_klasse', 'lodgy',\n",
       "       '850', 'range_rover', 'q3', 'serie_2', 'glk', 'charade', 'croma',\n",
       "       'outlander', 'doblo', 'musa', 'move', '9000', 'v60', '145', 'aveo',\n",
       "       '200', 'b_max', 'range_rover_sport', 'terios', 'rangerover', 'q5',\n",
       "       'range_rover_evoque', 'materia', 'delta', 'gl', 'kalina', 'amarok',\n",
       "       'elefantino', 'i3', 'kappa', 'serie_3', 'serie_1'], dtype=object)"
      ]
     },
     "execution_count": 5,
     "metadata": {},
     "output_type": "execute_result"
    }
   ],
   "source": [
    "df['Model'].unique()"
   ]
  },
  {
   "cell_type": "markdown",
   "metadata": {},
   "source": [
    "В столбце с названиями моделей авто присутствует значение 'other', отнесем отсутствующие названия моделей к данной категории."
   ]
  },
  {
   "cell_type": "code",
   "execution_count": 6,
   "metadata": {},
   "outputs": [],
   "source": [
    "df = df.fillna({'Model': 'other'})"
   ]
  },
  {
   "cell_type": "markdown",
   "metadata": {},
   "source": [
    "Пропуски данных в столбцах `Gearbox` и `Repaired` заполним новой категорией 'unknown':"
   ]
  },
  {
   "cell_type": "code",
   "execution_count": 7,
   "metadata": {},
   "outputs": [],
   "source": [
    "df = df.fillna({'Gearbox': 'unknown', 'Repaired': 'unknown'})"
   ]
  },
  {
   "cell_type": "markdown",
   "metadata": {},
   "source": [
    "Пропуски в столбцах `VehicleType` и `FuelType` заполним наиболее распространенными значениями для соответствующей модели автомобиля."
   ]
  },
  {
   "cell_type": "code",
   "execution_count": 8,
   "metadata": {},
   "outputs": [],
   "source": [
    "vehicle_type_of_models = df.groupby('Model')['VehicleType'].apply(list)\n",
    "\n",
    "model_by_order = []\n",
    "popular_vehicle_type_by_order = []\n",
    "for i in vehicle_type_of_models.index:\n",
    "    model_by_order.append(i)\n",
    "    popular_vehicle_type_by_order.append(pd.Series(vehicle_type_of_models[i]).mode()[0])\n",
    "    \n",
    "popular_vehicle_type_for_each_model = dict(zip(model_by_order, popular_vehicle_type_by_order))\n",
    "\n",
    "for model in model_by_order:\n",
    "    df.loc[((df['VehicleType'].isna()) & (df['Model'] == model)), 'VehicleType'] = \\\n",
    "    df.loc[((df['VehicleType'].isna()) & (df['Model'] == model)), 'VehicleType'].fillna(popular_vehicle_type_for_each_model[model])"
   ]
  },
  {
   "cell_type": "code",
   "execution_count": 9,
   "metadata": {},
   "outputs": [],
   "source": [
    "fuel_type_of_models = df.groupby('Model')['FuelType'].apply(list)\n",
    "\n",
    "model_by_order = []\n",
    "popular_fuel_type_by_order = []\n",
    "for i in fuel_type_of_models.index:\n",
    "    model_by_order.append(i)\n",
    "    popular_fuel_type_by_order.append(pd.Series(fuel_type_of_models[i]).mode()[0])\n",
    "    \n",
    "popular_fuel_type_for_each_model = dict(zip(model_by_order, popular_fuel_type_by_order)) \n",
    "\n",
    "for model in model_by_order:\n",
    "    df.loc[((df['FuelType'].isna()) & (df['Model'] == model)), 'FuelType'] = \\\n",
    "    df.loc[((df['FuelType'].isna()) & (df['Model'] == model)), 'FuelType'].fillna(popular_fuel_type_for_each_model[model])"
   ]
  },
  {
   "cell_type": "markdown",
   "metadata": {},
   "source": [
    "-----"
   ]
  },
  {
   "cell_type": "markdown",
   "metadata": {},
   "source": [
    "Проверим колонку `NumberOfPictures` на количество уникальных значений."
   ]
  },
  {
   "cell_type": "code",
   "execution_count": 10,
   "metadata": {},
   "outputs": [
    {
     "data": {
      "text/plain": [
       "array([0])"
      ]
     },
     "execution_count": 10,
     "metadata": {},
     "output_type": "execute_result"
    }
   ],
   "source": [
    "df['NumberOfPictures'].unique()"
   ]
  },
  {
   "cell_type": "markdown",
   "metadata": {},
   "source": [
    "Колонка неинформативна, избавимся от нее."
   ]
  },
  {
   "cell_type": "markdown",
   "metadata": {},
   "source": [
    "Некоторые колонки также бесполезны для построения модели, такие как: `DateCrawled`, `DateCreated`, `LastSeen`, `PostalCode`."
   ]
  },
  {
   "cell_type": "code",
   "execution_count": 11,
   "metadata": {},
   "outputs": [],
   "source": [
    "df = df.drop(['DateCrawled', 'NumberOfPictures', 'DateCreated', 'LastSeen', 'PostalCode'], axis='columns')"
   ]
  },
  {
   "cell_type": "markdown",
   "metadata": {},
   "source": [
    "----"
   ]
  },
  {
   "cell_type": "markdown",
   "metadata": {},
   "source": [
    "Проверим данные на наличие дубликатов."
   ]
  },
  {
   "cell_type": "code",
   "execution_count": 12,
   "metadata": {},
   "outputs": [
    {
     "data": {
      "text/plain": [
       "28755"
      ]
     },
     "execution_count": 12,
     "metadata": {},
     "output_type": "execute_result"
    }
   ],
   "source": [
    "df.duplicated().sum()"
   ]
  },
  {
   "cell_type": "markdown",
   "metadata": {},
   "source": [
    "В данных присутствуют дубликаты. Избавимся от них."
   ]
  },
  {
   "cell_type": "code",
   "execution_count": 13,
   "metadata": {},
   "outputs": [],
   "source": [
    "df = df.drop_duplicates()"
   ]
  },
  {
   "cell_type": "code",
   "execution_count": 14,
   "metadata": {},
   "outputs": [
    {
     "name": "stdout",
     "output_type": "stream",
     "text": [
      "<class 'pandas.core.frame.DataFrame'>\n",
      "Int64Index: 325614 entries, 0 to 354368\n",
      "Data columns (total 11 columns):\n",
      " #   Column             Non-Null Count   Dtype \n",
      "---  ------             --------------   ----- \n",
      " 0   Price              325614 non-null  int64 \n",
      " 1   VehicleType        325614 non-null  object\n",
      " 2   RegistrationYear   325614 non-null  int64 \n",
      " 3   Gearbox            325614 non-null  object\n",
      " 4   Power              325614 non-null  int64 \n",
      " 5   Model              325614 non-null  object\n",
      " 6   Kilometer          325614 non-null  int64 \n",
      " 7   RegistrationMonth  325614 non-null  int64 \n",
      " 8   FuelType           325614 non-null  object\n",
      " 9   Brand              325614 non-null  object\n",
      " 10  Repaired           325614 non-null  object\n",
      "dtypes: int64(5), object(6)\n",
      "memory usage: 29.8+ MB\n"
     ]
    }
   ],
   "source": [
    "df.info()"
   ]
  },
  {
   "cell_type": "markdown",
   "metadata": {},
   "source": [
    "### Исследовательский анализ данных."
   ]
  },
  {
   "cell_type": "markdown",
   "metadata": {},
   "source": [
    "Проверим численные данные на наличие аномалий."
   ]
  },
  {
   "cell_type": "markdown",
   "metadata": {},
   "source": [
    "Рассмотрим колонку с ценами на автомобили."
   ]
  },
  {
   "cell_type": "code",
   "execution_count": 15,
   "metadata": {},
   "outputs": [
    {
     "data": {
      "image/png": "[encoded data removed]",
      "text/plain": [
       "<Figure size 432x288 with 1 Axes>"
      ]
     },
     "metadata": {
      "needs_background": "light"
     },
     "output_type": "display_data"
    }
   ],
   "source": [
    "df['Price'].hist()\n",
    "plt.show()"
   ]
  },
  {
   "cell_type": "code",
   "execution_count": 36,
   "metadata": {},
   "outputs": [
    {
     "data": {
      "image/png": "[encoded data removed]",
      "text/plain": [
       "<Figure size 432x288 with 1 Axes>"
      ]
     },
     "metadata": {
      "needs_background": "light"
     },
     "output_type": "display_data"
    }
   ],
   "source": [
    "df['Price'].hist(range=(2, 5000), bins=20)\n",
    "plt.show()"
   ]
  },
  {
   "cell_type": "markdown",
   "metadata": {},
   "source": [
    "Удалим данные автомобилей с ценой меньше 100 евро."
   ]
  },
  {
   "cell_type": "code",
   "execution_count": 28,
   "metadata": {},
   "outputs": [],
   "source": [
    "df = df.loc[df['Price'] > 100] "
   ]
  },
  {
   "cell_type": "markdown",
   "metadata": {},
   "source": [
    "----"
   ]
  },
  {
   "cell_type": "markdown",
   "metadata": {},
   "source": [
    "Рассмотрим колонку с годом регистрации автомобилей."
   ]
  },
  {
   "cell_type": "code",
   "execution_count": 29,
   "metadata": {},
   "outputs": [
    {
     "data": {
      "text/plain": [
       "<AxesSubplot:>"
      ]
     },
     "execution_count": 29,
     "metadata": {},
     "output_type": "execute_result"
    },
    {
     "data": {
      "image/png": "[encoded data removed]",
      "text/plain": [
       "<Figure size 432x288 with 1 Axes>"
      ]
     },
     "metadata": {
      "needs_background": "light"
     },
     "output_type": "display_data"
    }
   ],
   "source": [
    "df.boxplot(column='RegistrationYear')"
   ]
  },
  {
   "cell_type": "code",
   "execution_count": 30,
   "metadata": {},
   "outputs": [
    {
     "data": {
      "text/plain": [
       "array([1993, 2011, 2004, 2001, 2008, 1995, 2014, 1998, 2005, 1910, 2016,\n",
       "       2007, 2009, 2002, 2018, 1997, 1990, 2017, 1981, 2003, 1994, 1991,\n",
       "       1984, 2006, 1999, 2012, 2010, 2000, 1992, 2013, 1996, 1985, 1989,\n",
       "       2015, 1982, 1976, 1983, 1973, 1969, 1971, 1987, 1986, 1988, 1980,\n",
       "       1970, 1965, 1945, 1925, 1974, 1979, 1955, 1978, 1972, 1968, 1977,\n",
       "       1961, 1966, 1975, 1963, 1964, 1960, 1958, 1967, 1956, 3200, 1000,\n",
       "       1941, 9999, 8888, 1500, 2200, 4100, 1962, 1929, 1957, 1940, 3000,\n",
       "       2066, 1949, 2019, 1937, 1951, 1800, 1959, 1953, 1954, 1234, 5300,\n",
       "       9000, 2900, 6000, 5900, 5911, 1400, 5000, 1950, 4000, 1948, 1952,\n",
       "       8500, 1932, 3700, 3800, 4800, 1942, 7000, 1935, 1933, 1936, 1923,\n",
       "       2290, 1930, 1001, 9450, 1944, 2500, 1943, 1938, 1934, 1928, 5555,\n",
       "       5600, 1600, 1111, 1039, 1300, 2800, 1931, 4500, 1602, 7800, 1947,\n",
       "       1927, 7100, 8200, 1946])"
      ]
     },
     "execution_count": 30,
     "metadata": {},
     "output_type": "execute_result"
    }
   ],
   "source": [
    "df['RegistrationYear'].unique()"
   ]
  },
  {
   "cell_type": "code",
   "execution_count": 31,
   "metadata": {},
   "outputs": [
    {
     "data": {
      "text/plain": [
       "<AxesSubplot:>"
      ]
     },
     "execution_count": 31,
     "metadata": {},
     "output_type": "execute_result"
    },
    {
     "data": {
      "image/png": "[encoded data removed]",
      "text/plain": [
       "<Figure size 432x288 with 1 Axes>"
      ]
     },
     "metadata": {
      "needs_background": "light"
     },
     "output_type": "display_data"
    }
   ],
   "source": [
    "df['RegistrationYear'].hist(bins=100, range=(1900, 2020))"
   ]
  },
  {
   "cell_type": "markdown",
   "metadata": {},
   "source": [
    "Избавимся от значений даты регистрации раньше 1960 года и позже 2020."
   ]
  },
  {
   "cell_type": "code",
   "execution_count": 32,
   "metadata": {},
   "outputs": [],
   "source": [
    "df = df.loc[((df['RegistrationYear'] >= 1960) & (df['RegistrationYear'] <= 2020))]"
   ]
  },
  {
   "cell_type": "code",
   "execution_count": 33,
   "metadata": {},
   "outputs": [
    {
     "data": {
      "text/plain": [
       "<AxesSubplot:>"
      ]
     },
     "execution_count": 33,
     "metadata": {},
     "output_type": "execute_result"
    },
    {
     "data": {
      "image/png": "[encoded data removed]",
      "text/plain": [
       "<Figure size 432x288 with 1 Axes>"
      ]
     },
     "metadata": {
      "needs_background": "light"
     },
     "output_type": "display_data"
    }
   ],
   "source": [
    "df.boxplot(column='RegistrationYear')"
   ]
  },
  {
   "cell_type": "markdown",
   "metadata": {},
   "source": [
    "-----"
   ]
  },
  {
   "cell_type": "markdown",
   "metadata": {},
   "source": [
    "Рассмотрим колонку с данными о мощности автомобилей."
   ]
  },
  {
   "cell_type": "code",
   "execution_count": 42,
   "metadata": {},
   "outputs": [
    {
     "data": {
      "image/png": "[encoded data removed]",
      "text/plain": [
       "<Figure size 432x288 with 1 Axes>"
      ]
     },
     "metadata": {
      "needs_background": "light"
     },
     "output_type": "display_data"
    }
   ],
   "source": [
    "df['Power'].hist(bins=100, range=(0, 1000))\n",
    "plt.show()"
   ]
  },
  {
   "cell_type": "markdown",
   "metadata": {},
   "source": [
    "Избавимся от объектов с указанной мощностью меньше 30 и больше 600 л.с."
   ]
  },
  {
   "cell_type": "code",
   "execution_count": 43,
   "metadata": {},
   "outputs": [],
   "source": [
    "df = df.loc[((df['Power'] >= 30) & (df['Power'] <= 600))] "
   ]
  },
  {
   "cell_type": "markdown",
   "metadata": {},
   "source": [
    "-----"
   ]
  },
  {
   "cell_type": "markdown",
   "metadata": {},
   "source": [
    "Рассмотрим колонку с пробегом."
   ]
  },
  {
   "cell_type": "code",
   "execution_count": 44,
   "metadata": {},
   "outputs": [
    {
     "data": {
      "text/plain": [
       "<AxesSubplot:>"
      ]
     },
     "execution_count": 44,
     "metadata": {},
     "output_type": "execute_result"
    },
    {
     "data": {
      "image/png": "[encoded data removed]",
      "text/plain": [
       "<Figure size 432x288 with 1 Axes>"
      ]
     },
     "metadata": {
      "needs_background": "light"
     },
     "output_type": "display_data"
    }
   ],
   "source": [
    "df['Kilometer'].hist()"
   ]
  },
  {
   "cell_type": "markdown",
   "metadata": {},
   "source": [
    "В колонке с пробегом аномалий не обнаружено."
   ]
  },
  {
   "cell_type": "markdown",
   "metadata": {},
   "source": [
    "----"
   ]
  },
  {
   "cell_type": "markdown",
   "metadata": {},
   "source": [
    "Рассмотрим колонку с указанием месяца регистрации авто."
   ]
  },
  {
   "cell_type": "code",
   "execution_count": 45,
   "metadata": {},
   "outputs": [
    {
     "data": {
      "text/plain": [
       "<AxesSubplot:>"
      ]
     },
     "execution_count": 45,
     "metadata": {},
     "output_type": "execute_result"
    },
    {
     "data": {
      "image/png": "[encoded data removed]",
      "text/plain": [
       "<Figure size 432x288 with 1 Axes>"
      ]
     },
     "metadata": {
      "needs_background": "light"
     },
     "output_type": "display_data"
    }
   ],
   "source": [
    "df['RegistrationMonth'].hist()"
   ]
  },
  {
   "cell_type": "markdown",
   "metadata": {},
   "source": [
    "Аномалий не выявлено."
   ]
  },
  {
   "cell_type": "markdown",
   "metadata": {},
   "source": [
    "-----"
   ]
  },
  {
   "cell_type": "code",
   "execution_count": 46,
   "metadata": {},
   "outputs": [
    {
     "name": "stdout",
     "output_type": "stream",
     "text": [
      "<class 'pandas.core.frame.DataFrame'>\n",
      "Int64Index: 279617 entries, 1 to 354368\n",
      "Data columns (total 11 columns):\n",
      " #   Column             Non-Null Count   Dtype \n",
      "---  ------             --------------   ----- \n",
      " 0   Price              279617 non-null  int64 \n",
      " 1   VehicleType        279617 non-null  object\n",
      " 2   RegistrationYear   279617 non-null  int64 \n",
      " 3   Gearbox            279617 non-null  object\n",
      " 4   Power              279617 non-null  int64 \n",
      " 5   Model              279617 non-null  object\n",
      " 6   Kilometer          279617 non-null  int64 \n",
      " 7   RegistrationMonth  279617 non-null  int64 \n",
      " 8   FuelType           279617 non-null  object\n",
      " 9   Brand              279617 non-null  object\n",
      " 10  Repaired           279617 non-null  object\n",
      "dtypes: int64(5), object(6)\n",
      "memory usage: 25.6+ MB\n"
     ]
    }
   ],
   "source": [
    "df.info()"
   ]
  },
  {
   "cell_type": "markdown",
   "metadata": {},
   "source": [
    "  "
   ]
  },
  {
   "cell_type": "markdown",
   "metadata": {},
   "source": [
    "Таким образом, в ходе подготовки данных были выявлены и обработаны пропуски, удалены дубликаты. Также в данных были замечены аномальные значения некоторых признаков, объекты с такими признаки были также удалены."
   ]
  },
  {
   "cell_type": "markdown",
   "metadata": {},
   "source": [
    "## Обучение моделей"
   ]
  },
  {
   "cell_type": "markdown",
   "metadata": {},
   "source": [
    "Закодируем категориальные признаки с помощью метода OHE. Это необходимо для построения модели линейной регрессии. "
   ]
  },
  {
   "cell_type": "code",
   "execution_count": 48,
   "metadata": {},
   "outputs": [],
   "source": [
    "df_ohe = pd.get_dummies(df, drop_first=True)"
   ]
  },
  {
   "cell_type": "markdown",
   "metadata": {},
   "source": [
    "Для модели случайного леса используем порядковое кодирование."
   ]
  },
  {
   "cell_type": "code",
   "execution_count": 49,
   "metadata": {},
   "outputs": [],
   "source": [
    "enc = OrdinalEncoder()\n",
    "enc.fit(df[['VehicleType', 'Gearbox', 'Model', 'FuelType', 'Brand', 'Repaired']])\n",
    "df_ord = df.copy()\n",
    "df_ord[['VehicleType', 'Gearbox', 'Model', 'FuelType', 'Brand', 'Repaired']] = enc.transform(df[['VehicleType', 'Gearbox', 'Model', 'FuelType', 'Brand', 'Repaired']])"
   ]
  },
  {
   "cell_type": "markdown",
   "metadata": {},
   "source": [
    "Для модели LGBMRegressor нет необходимости кодировать категориальные признаки, необходимо только поменять тип с \"object\" на \"category\"."
   ]
  },
  {
   "cell_type": "code",
   "execution_count": 51,
   "metadata": {},
   "outputs": [],
   "source": [
    "df_lgb = df.copy()\n",
    "df_lgb[['VehicleType', 'Gearbox', 'Model', 'FuelType', 'Brand', 'Repaired']] = df[['VehicleType', 'Gearbox', 'Model', 'FuelType', 'Brand', 'Repaired']].astype('category')"
   ]
  },
  {
   "cell_type": "markdown",
   "metadata": {},
   "source": [
    "Напишем функцию для получения обучающей и тестовой выборки для каждого типа кодирования категориальных признаков."
   ]
  },
  {
   "cell_type": "code",
   "execution_count": 54,
   "metadata": {},
   "outputs": [],
   "source": [
    "def get_samples(df):\n",
    "    features = df.drop('Price', axis=1)\n",
    "    target = df['Price']\n",
    "    features_train, features_test, target_train, target_test = train_test_split(features, target, \n",
    "                                                                            test_size=0.25, \n",
    "                                                                            random_state=123)\n",
    "    return features_train, features_test, target_train, target_test"
   ]
  },
  {
   "cell_type": "code",
   "execution_count": 56,
   "metadata": {},
   "outputs": [],
   "source": [
    "features_train_ohe, features_test_ohe, target_train_ohe, target_test_ohe = get_samples(df_ohe)\n",
    "features_train_ord, features_test_ord, target_train_ord, target_test_ord = get_samples(df_ord)\n",
    "features_train_lgb, features_test_lgb, target_train_lgb, target_test_lgb = get_samples(df_lgb)"
   ]
  },
  {
   "cell_type": "markdown",
   "metadata": {},
   "source": [
    "Так как модель будет оцениваться с помощью метрики RMSE, напишем отдельную функцию для данной метрики."
   ]
  },
  {
   "cell_type": "code",
   "execution_count": 57,
   "metadata": {},
   "outputs": [],
   "source": [
    "def rmse(target, predict):\n",
    "    return mean_squared_error(target, predict, squared=False)\n",
    "   \n",
    "rmse_score = make_scorer(rmse, greater_is_better=False)"
   ]
  },
  {
   "cell_type": "markdown",
   "metadata": {},
   "source": [
    "### Модель линейной регрессии."
   ]
  },
  {
   "cell_type": "code",
   "execution_count": 63,
   "metadata": {},
   "outputs": [
    {
     "name": "stdout",
     "output_type": "stream",
     "text": [
      "Качество модели линейной регрессии: 2649.667292001573\n",
      "CPU times: user 43.8 s, sys: 21.5 s, total: 1min 5s\n",
      "Wall time: 1min 5s\n"
     ]
    }
   ],
   "source": [
    "%%time\n",
    "\n",
    "lin_model = LinearRegression()\n",
    "\n",
    "lin_grid = GridSearchCV(lin_model, {}, scoring=rmse_score, cv=3)\n",
    "lin_grid.fit(features_train_ohe, target_train_ohe)\n",
    "lin_model_score = lin_grid.score(features_train_ohe, target_train_ohe) * (-1)\n",
    "print('Качество модели линейной регрессии:', lin_model_score)\n",
    "\n",
    "# Качество модели линейной регрессии: 2649.667292001573\n",
    "# CPU times: user 43.8 s, sys: 21.5 s, total: 1min 5s"
   ]
  },
  {
   "cell_type": "markdown",
   "metadata": {},
   "source": [
    "### Модель случайного леса."
   ]
  },
  {
   "cell_type": "code",
   "execution_count": 60,
   "metadata": {
    "scrolled": true
   },
   "outputs": [
    {
     "name": "stdout",
     "output_type": "stream",
     "text": [
      "Качество модели случайного леса: 1903.320539110351\n",
      "CPU times: user 1min 5s, sys: 141 ms, total: 1min 5s\n",
      "Wall time: 1min 5s\n"
     ]
    }
   ],
   "source": [
    "%%time\n",
    "\n",
    "forest_model = RandomForestRegressor(n_estimators=30, random_state=123)\n",
    "\n",
    "forest_parametrs = {'max_depth': range(1, 10, 2)}\n",
    "\n",
    "forest_grid = GridSearchCV(forest_model, forest_parametrs, scoring=rmse_score, cv=3)\n",
    "forest_grid.fit(features_train_ord, target_train_ord)\n",
    "forest_model_score = forest_grid.score(features_train_ord, target_train_ord) * (-1)\n",
    "print('Качество модели случайного леса:', forest_model_score)\n",
    "\n",
    "# Качество модели случайного леса: 1903.320539110351\n",
    "# CPU times: user 1min 5s, sys: 141 ms, total: 1min 5s"
   ]
  },
  {
   "cell_type": "markdown",
   "metadata": {},
   "source": [
    "### Модель LGBMRegressor"
   ]
  },
  {
   "cell_type": "code",
   "execution_count": 58,
   "metadata": {},
   "outputs": [
    {
     "name": "stdout",
     "output_type": "stream",
     "text": [
      "Качество модели LGBMRegressor: 1448.460783068608\n",
      "CPU times: user 4min 55s, sys: 1.2 s, total: 4min 57s\n",
      "Wall time: 4min 59s\n"
     ]
    }
   ],
   "source": [
    "%%time\n",
    "\n",
    "lgb_model = lgb.LGBMRegressor(random_state=123)\n",
    "\n",
    "lgb_parametrs = {\"n_estimators\": [20, 50, 100],\n",
    "               \"num_leaves\": [10, 30, 100]}\n",
    "\n",
    "lgb_grid = GridSearchCV(lgb_model, lgb_parametrs, scoring=rmse_score, cv=3)\n",
    "lgb_grid.fit(features_train_lgb, target_train_lgb)\n",
    "lgb_model_score = lgb_grid.score(features_train_lgb, target_train_lgb) * (-1)\n",
    "print('Качество модели LGBMRegressor:', lgb_model_score)\n",
    "\n",
    "# Качество модели LGBMRegressor: 1448.460783068608\n",
    "# CPU times: user 4min 55s, sys: 1.2 s, total: 4min 57s"
   ]
  },
  {
   "cell_type": "markdown",
   "metadata": {},
   "source": [
    "------"
   ]
  },
  {
   "cell_type": "markdown",
   "metadata": {},
   "source": [
    "Таким образом наилучшей моделью оказалась модель основанная на алгоритме градиентного бустинга, со значением метрики rmse = 1625, что гораздо меньше rmse модели случайного леса (rmse = 1997) и модели линейной регрессии (rmse = 2736)."
   ]
  },
  {
   "cell_type": "markdown",
   "metadata": {},
   "source": [
    "## Анализ моделей"
   ]
  },
  {
   "cell_type": "markdown",
   "metadata": {},
   "source": [
    "Критерии, которые важны заказчику:\n",
    "  * качество предсказания;\n",
    "  * время обучения модели;\n",
    "  * время предсказания модели.\n",
    "\n",
    "Проведем анализ моделей на тестовой выборке и сравним время обучения и предсказания разных моделей."
   ]
  },
  {
   "cell_type": "markdown",
   "metadata": {},
   "source": [
    "### Модель линейной регрессии."
   ]
  },
  {
   "cell_type": "code",
   "execution_count": 64,
   "metadata": {},
   "outputs": [
    {
     "name": "stdout",
     "output_type": "stream",
     "text": [
      "Fit time: 14.0895889600118, Predict time: 0.3029905954996745, Best RMSE: 2655.0723923554947\n"
     ]
    }
   ],
   "source": [
    "results = lin_grid.cv_results_\n",
    "best_index = lin_grid.best_index_\n",
    "\n",
    "lin_fit_time = results['mean_fit_time'][best_index]\n",
    "lin_score_time = results['mean_score_time'][best_index]\n",
    "lin_rmse = results['mean_test_score'][best_index] * -1\n",
    "\n",
    "print(f\"Fit time: {lin_fit_time}, Predict time: {lin_score_time}, Best RMSE: {lin_rmse}\")\n",
    "\n",
    "# Fit time: 14.0895889600118, Predict time: 0.3029905954996745, Best RMSE: 2655.0723923554947"
   ]
  },
  {
   "cell_type": "markdown",
   "metadata": {},
   "source": [
    "### Модель случайного леса."
   ]
  },
  {
   "cell_type": "code",
   "execution_count": 61,
   "metadata": {},
   "outputs": [
    {
     "name": "stdout",
     "output_type": "stream",
     "text": [
      "Fit time: 6.1389938195546465, Predict time: 0.1725478172302246, Best RMSE: 1948.9230784686179\n"
     ]
    }
   ],
   "source": [
    "results = forest_grid.cv_results_\n",
    "best_index = forest_grid.best_index_\n",
    "\n",
    "forest_fit_time = results['mean_fit_time'][best_index]\n",
    "forest_score_time = results['mean_score_time'][best_index]\n",
    "forest_rmse = results['mean_test_score'][best_index] * -1\n",
    "\n",
    "print(f\"Fit time: {forest_fit_time}, Predict time: {forest_score_time}, Best RMSE: {forest_rmse}\")\n",
    "\n",
    "# Fit time: 6.1389938195546465, Predict time: 0.1725478172302246, Best RMSE: 1948.9230784686179"
   ]
  },
  {
   "cell_type": "markdown",
   "metadata": {},
   "source": [
    "### Модель LGBMRegressor."
   ]
  },
  {
   "cell_type": "code",
   "execution_count": 59,
   "metadata": {},
   "outputs": [
    {
     "name": "stdout",
     "output_type": "stream",
     "text": [
      "Fit time: 8.49432929356893, Predict time: 1.0690420468648274, Best RMSE: 1581.0366209733465\n"
     ]
    }
   ],
   "source": [
    "results = lgb_grid.cv_results_\n",
    "best_index = lgb_grid.best_index_\n",
    "\n",
    "lgb_fit_time = results['mean_fit_time'][best_index]\n",
    "lgb_score_time = results['mean_score_time'][best_index]\n",
    "lgb_rmse = results['mean_test_score'][best_index] * -1\n",
    "\n",
    "print(f\"Fit time: {lgb_fit_time}, Predict time: {lgb_score_time}, Best RMSE: {lgb_rmse}\")\n",
    "\n",
    "# Fit time: 8.49432929356893, Predict time: 1.0690420468648274, Best RMSE: 1581.0366209733465x"
   ]
  },
  {
   "cell_type": "markdown",
   "metadata": {},
   "source": [
    "### Сравнение результатов."
   ]
  },
  {
   "cell_type": "markdown",
   "metadata": {},
   "source": [
    "Сравним результаты обучения моделей."
   ]
  },
  {
   "cell_type": "code",
   "execution_count": 65,
   "metadata": {},
   "outputs": [
    {
     "data": {
      "text/html": [
       "<div>\n",
       "<style scoped>\n",
       "    .dataframe tbody tr th:only-of-type {\n",
       "        vertical-align: middle;\n",
       "    }\n",
       "\n",
       "    .dataframe tbody tr th {\n",
       "        vertical-align: top;\n",
       "    }\n",
       "\n",
       "    .dataframe thead th {\n",
       "        text-align: right;\n",
       "    }\n",
       "</style>\n",
       "<table border=\"1\" class=\"dataframe\">\n",
       "  <thead>\n",
       "    <tr style=\"text-align: right;\">\n",
       "      <th></th>\n",
       "      <th>RMSE</th>\n",
       "      <th>fit_time</th>\n",
       "      <th>score_time</th>\n",
       "    </tr>\n",
       "  </thead>\n",
       "  <tbody>\n",
       "    <tr>\n",
       "      <th>LinearRegression</th>\n",
       "      <td>2655.072392</td>\n",
       "      <td>14.089589</td>\n",
       "      <td>0.302991</td>\n",
       "    </tr>\n",
       "    <tr>\n",
       "      <th>RandomForestRegressor</th>\n",
       "      <td>1948.923078</td>\n",
       "      <td>6.138994</td>\n",
       "      <td>0.172548</td>\n",
       "    </tr>\n",
       "    <tr>\n",
       "      <th>LightGBM</th>\n",
       "      <td>1581.036621</td>\n",
       "      <td>8.494329</td>\n",
       "      <td>1.069042</td>\n",
       "    </tr>\n",
       "  </tbody>\n",
       "</table>\n",
       "</div>"
      ],
      "text/plain": [
       "                              RMSE   fit_time  score_time\n",
       "LinearRegression       2655.072392  14.089589    0.302991\n",
       "RandomForestRegressor  1948.923078   6.138994    0.172548\n",
       "LightGBM               1581.036621   8.494329    1.069042"
      ]
     },
     "execution_count": 65,
     "metadata": {},
     "output_type": "execute_result"
    }
   ],
   "source": [
    "result = pd.DataFrame(\n",
    "    [\n",
    "     [lin_rmse, lin_fit_time, lin_score_time], \n",
    "     [forest_rmse, forest_fit_time, forest_score_time], \n",
    "     [lgb_rmse, lgb_fit_time, lgb_score_time] ], \n",
    "    index=['LinearRegression', 'RandomForestRegressor', 'LightGBM'], \n",
    "    columns=['RMSE', 'fit_time', 'predict_time']\n",
    ")\n",
    "result"
   ]
  },
  {
   "cell_type": "markdown",
   "metadata": {},
   "source": [
    "По качеству предсказаний модель основанная на градиентном бустинге значительно превосходит другие модели. Скорость обучения модели градиентного бустинга немного выше, чем у модели случайного леса, самое большое время при этом у модели линейной регресии. Время предсказания у модели градиентного бустинга больше чем у других моделей, однако в пределах одной секунды."
   ]
  },
  {
   "cell_type": "markdown",
   "metadata": {},
   "source": [
    "Проверим модель LGBMRegressor на тестовой выборке."
   ]
  },
  {
   "cell_type": "code",
   "execution_count": 66,
   "metadata": {},
   "outputs": [
    {
     "data": {
      "text/plain": [
       "1578.2050730520436"
      ]
     },
     "execution_count": 66,
     "metadata": {},
     "output_type": "execute_result"
    }
   ],
   "source": [
    "rmse(target_test_lgb, lgb_grid.predict(features_test_lgb))"
   ]
  },
  {
   "cell_type": "markdown",
   "metadata": {},
   "source": [
    "Значение метрики примерно соответствует ошибке на обучающей выборке."
   ]
  },
  {
   "cell_type": "markdown",
   "metadata": {},
   "source": [
    "## Вывод."
   ]
  },
  {
   "cell_type": "markdown",
   "metadata": {},
   "source": [
    "Сервис по продаже автомобилей с пробегом разрабатывает приложение для привлечения новых клиентов, в котором можно быстро узнать рыночную стоимость своего автомобиля. \n",
    "\n",
    "Нам были предоставленны данные: технические характеристики, комплектации и цены автомобилей, с помощью которых необходимо построить модель для определения стоимости.\n",
    "\n",
    "В предоставленных данных присутствовали пропуски. Некоторые из пропусков были заполнены наиболее распространенными значениями для соответствующей модели автомобиля. Неинформативные колонки и дубликаты были удалены. Также в данных были обнаружены аномальные значения некоторых признаков. Объекты с такими признаками были также удалены.\n",
    "\n",
    "Для разработки модели были рассмотрены следующие варианты:\n",
    "* Модель линейной регрессии\n",
    "* Модель случайного леса\n",
    "* Модель LGBMRegressor\n",
    "\n",
    "В качестве оценочной метрики была выбрана RMSE.\n",
    "\n",
    "Наилучшей моделью оказалась модель основанная на алгоритме градиентного бустинга (LGBMRegressor), со значением метрики rmse = 1581, что гораздо меньше rmse модели случайного леса (rmse = 1948) и модели линейной регрессии (rmse = 2655). Время обучения модели градиентного бустинга при этом составило 8 мин, что гораздо меньше времени обучения модели алгоритма линейной регрессии (14 мин). Модель алгоритма случайного леса показала наименьшее время обучения (6 мин).\n",
    "\n",
    "Время предсказания у модели градиентного бустинга немного выше чем у остальных моделей, однако остается в рамках одной секунды.\n",
    "\n",
    "Для приложения рекомендуется применять модель на основе LGBMRegressor."
   ]
  }
 ],
 "metadata": {
  "ExecuteTimeLog": [
   {
    "duration": 401,
    "start_time": "2023-01-05T12:03:58.683Z"
   },
   {
    "duration": 2,
    "start_time": "2023-01-05T12:04:01.931Z"
   },
   {
    "duration": 2745,
    "start_time": "2023-01-05T12:04:51.113Z"
   },
   {
    "duration": 97,
    "start_time": "2023-01-05T12:06:59.942Z"
   },
   {
    "duration": 17,
    "start_time": "2023-01-05T12:07:13.993Z"
   },
   {
    "duration": 56,
    "start_time": "2023-01-05T12:24:27.603Z"
   },
   {
    "duration": 20,
    "start_time": "2023-01-05T12:24:41.444Z"
   },
   {
    "duration": 20,
    "start_time": "2023-01-05T12:24:41.658Z"
   },
   {
    "duration": 21,
    "start_time": "2023-01-05T12:24:50.585Z"
   },
   {
    "duration": 18,
    "start_time": "2023-01-05T12:24:56.302Z"
   },
   {
    "duration": 5,
    "start_time": "2023-01-05T12:27:41.462Z"
   },
   {
    "duration": 7,
    "start_time": "2023-01-05T12:27:50.275Z"
   },
   {
    "duration": 47,
    "start_time": "2023-01-05T12:38:00.828Z"
   },
   {
    "duration": 30,
    "start_time": "2023-01-05T12:38:14.753Z"
   },
   {
    "duration": 8,
    "start_time": "2023-01-05T13:01:41.487Z"
   },
   {
    "duration": 28,
    "start_time": "2023-01-05T13:02:54.343Z"
   },
   {
    "duration": 373,
    "start_time": "2023-01-05T13:03:24.401Z"
   },
   {
    "duration": 153,
    "start_time": "2023-01-05T13:03:47.304Z"
   },
   {
    "duration": 26,
    "start_time": "2023-01-05T13:04:04.705Z"
   },
   {
    "duration": 163,
    "start_time": "2023-01-05T13:04:18.304Z"
   },
   {
    "duration": 54,
    "start_time": "2023-01-07T11:12:40.370Z"
   },
   {
    "duration": 714,
    "start_time": "2023-01-07T11:12:44.940Z"
   },
   {
    "duration": 1059,
    "start_time": "2023-01-07T11:12:45.656Z"
   },
   {
    "duration": 17,
    "start_time": "2023-01-07T11:12:46.717Z"
   },
   {
    "duration": 112,
    "start_time": "2023-01-07T11:12:46.735Z"
   },
   {
    "duration": 6,
    "start_time": "2023-01-07T11:12:46.849Z"
   },
   {
    "duration": 42,
    "start_time": "2023-01-07T11:12:46.856Z"
   },
   {
    "duration": 194,
    "start_time": "2023-01-07T11:12:46.900Z"
   },
   {
    "duration": 183,
    "start_time": "2023-01-07T11:12:54.809Z"
   },
   {
    "duration": 209,
    "start_time": "2023-01-07T11:15:10.320Z"
   },
   {
    "duration": 177,
    "start_time": "2023-01-07T11:35:56.207Z"
   },
   {
    "duration": 37,
    "start_time": "2023-01-07T11:42:48.014Z"
   },
   {
    "duration": 22,
    "start_time": "2023-01-07T11:42:59.029Z"
   },
   {
    "duration": 21,
    "start_time": "2023-01-07T11:47:54.306Z"
   },
   {
    "duration": 17,
    "start_time": "2023-01-07T11:48:05.266Z"
   },
   {
    "duration": 15,
    "start_time": "2023-01-07T11:48:27.075Z"
   },
   {
    "duration": 58,
    "start_time": "2023-01-07T11:49:36.307Z"
   },
   {
    "duration": 45,
    "start_time": "2023-01-07T11:50:02.214Z"
   },
   {
    "duration": 75,
    "start_time": "2023-01-07T11:50:06.721Z"
   },
   {
    "duration": 51,
    "start_time": "2023-01-07T11:53:14.110Z"
   },
   {
    "duration": 120,
    "start_time": "2023-01-07T12:07:02.568Z"
   },
   {
    "duration": 35,
    "start_time": "2023-01-07T12:09:19.066Z"
   },
   {
    "duration": 6,
    "start_time": "2023-01-07T12:09:23.279Z"
   },
   {
    "duration": 143,
    "start_time": "2023-01-07T12:09:35.943Z"
   },
   {
    "duration": 12,
    "start_time": "2023-01-07T12:10:25.123Z"
   },
   {
    "duration": 100,
    "start_time": "2023-01-07T12:49:37.057Z"
   },
   {
    "duration": 72,
    "start_time": "2023-01-07T12:50:45.200Z"
   },
   {
    "duration": 76,
    "start_time": "2023-01-07T12:52:16.300Z"
   },
   {
    "duration": 66,
    "start_time": "2023-01-07T12:52:27.491Z"
   },
   {
    "duration": 107,
    "start_time": "2023-01-07T13:09:16.815Z"
   },
   {
    "duration": 8,
    "start_time": "2023-01-07T13:28:17.066Z"
   },
   {
    "duration": 22,
    "start_time": "2023-01-07T13:28:34.195Z"
   },
   {
    "duration": 40,
    "start_time": "2023-01-07T13:28:49.329Z"
   },
   {
    "duration": 8,
    "start_time": "2023-01-07T13:29:08.791Z"
   },
   {
    "duration": 12,
    "start_time": "2023-01-07T13:38:59.785Z"
   },
   {
    "duration": 18,
    "start_time": "2023-01-07T13:50:58.844Z"
   },
   {
    "duration": 19,
    "start_time": "2023-01-07T13:51:42.677Z"
   },
   {
    "duration": 6629,
    "start_time": "2023-01-07T13:54:29.862Z"
   },
   {
    "duration": 56,
    "start_time": "2023-01-08T08:24:43.320Z"
   },
   {
    "duration": 825,
    "start_time": "2023-01-08T08:24:54.661Z"
   },
   {
    "duration": 1238,
    "start_time": "2023-01-08T08:24:55.488Z"
   },
   {
    "duration": 24,
    "start_time": "2023-01-08T08:24:56.728Z"
   },
   {
    "duration": 412,
    "start_time": "2023-01-08T08:24:56.754Z"
   },
   {
    "duration": 22,
    "start_time": "2023-01-08T08:24:57.167Z"
   },
   {
    "duration": 83,
    "start_time": "2023-01-08T08:24:57.190Z"
   },
   {
    "duration": 88,
    "start_time": "2023-01-08T08:24:57.274Z"
   },
   {
    "duration": 8302,
    "start_time": "2023-01-08T08:24:57.363Z"
   },
   {
    "duration": 8319,
    "start_time": "2023-01-08T08:25:05.667Z"
   },
   {
    "duration": 6,
    "start_time": "2023-01-08T08:25:13.988Z"
   },
   {
    "duration": 43,
    "start_time": "2023-01-08T08:25:13.995Z"
   },
   {
    "duration": 198,
    "start_time": "2023-01-08T08:25:14.041Z"
   },
   {
    "duration": 192,
    "start_time": "2023-01-08T08:25:14.242Z"
   },
   {
    "duration": 198,
    "start_time": "2023-01-08T08:25:14.435Z"
   },
   {
    "duration": 95,
    "start_time": "2023-01-08T08:25:31.473Z"
   },
   {
    "duration": 6879,
    "start_time": "2023-01-08T08:26:50.911Z"
   },
   {
    "duration": 19002,
    "start_time": "2023-01-08T08:27:49.514Z"
   },
   {
    "duration": 75,
    "start_time": "2023-01-08T08:28:16.059Z"
   },
   {
    "duration": 57,
    "start_time": "2023-01-08T08:28:41.131Z"
   },
   {
    "duration": 18830,
    "start_time": "2023-01-08T08:28:45.119Z"
   },
   {
    "duration": 78,
    "start_time": "2023-01-08T08:29:10.929Z"
   },
   {
    "duration": 2,
    "start_time": "2023-01-08T08:30:54.649Z"
   },
   {
    "duration": 765,
    "start_time": "2023-01-08T08:30:54.653Z"
   },
   {
    "duration": 12,
    "start_time": "2023-01-08T08:30:55.420Z"
   },
   {
    "duration": 129,
    "start_time": "2023-01-08T08:30:55.435Z"
   },
   {
    "duration": 22,
    "start_time": "2023-01-08T08:30:55.565Z"
   },
   {
    "duration": 45,
    "start_time": "2023-01-08T08:30:55.588Z"
   },
   {
    "duration": 73,
    "start_time": "2023-01-08T08:30:55.634Z"
   },
   {
    "duration": 28086,
    "start_time": "2023-01-08T08:30:55.709Z"
   },
   {
    "duration": 153,
    "start_time": "2023-01-08T08:31:23.797Z"
   },
   {
    "duration": 118,
    "start_time": "2023-01-08T08:31:23.952Z"
   },
   {
    "duration": 5,
    "start_time": "2023-01-08T08:31:24.072Z"
   },
   {
    "duration": 28,
    "start_time": "2023-01-08T08:31:24.078Z"
   },
   {
    "duration": 159,
    "start_time": "2023-01-08T08:31:24.120Z"
   },
   {
    "duration": 172,
    "start_time": "2023-01-08T08:31:24.280Z"
   },
   {
    "duration": 203,
    "start_time": "2023-01-08T08:31:24.453Z"
   },
   {
    "duration": 18797,
    "start_time": "2023-01-08T08:31:52.600Z"
   },
   {
    "duration": 76,
    "start_time": "2023-01-08T08:32:20.355Z"
   },
   {
    "duration": 47,
    "start_time": "2023-01-08T10:20:08.671Z"
   },
   {
    "duration": 786,
    "start_time": "2023-01-08T10:20:28.899Z"
   },
   {
    "duration": 3492,
    "start_time": "2023-01-08T10:20:29.687Z"
   },
   {
    "duration": 16,
    "start_time": "2023-01-08T10:20:33.180Z"
   },
   {
    "duration": 113,
    "start_time": "2023-01-08T10:20:33.198Z"
   },
   {
    "duration": 21,
    "start_time": "2023-01-08T10:20:33.313Z"
   },
   {
    "duration": 61,
    "start_time": "2023-01-08T10:20:33.336Z"
   },
   {
    "duration": 86,
    "start_time": "2023-01-08T10:20:33.399Z"
   },
   {
    "duration": 28173,
    "start_time": "2023-01-08T10:20:33.487Z"
   },
   {
    "duration": 28165,
    "start_time": "2023-01-08T10:21:01.662Z"
   },
   {
    "duration": 19,
    "start_time": "2023-01-08T10:21:29.829Z"
   },
   {
    "duration": 11,
    "start_time": "2023-01-08T10:21:29.850Z"
   },
   {
    "duration": 41,
    "start_time": "2023-01-08T10:21:29.862Z"
   },
   {
    "duration": 168,
    "start_time": "2023-01-08T10:21:29.905Z"
   },
   {
    "duration": 180,
    "start_time": "2023-01-08T10:21:30.075Z"
   },
   {
    "duration": 238,
    "start_time": "2023-01-08T10:21:30.257Z"
   },
   {
    "duration": 11712,
    "start_time": "2023-01-08T10:26:03.539Z"
   },
   {
    "duration": 3,
    "start_time": "2023-01-08T10:26:21.245Z"
   },
   {
    "duration": 827,
    "start_time": "2023-01-08T10:26:21.250Z"
   },
   {
    "duration": 14,
    "start_time": "2023-01-08T10:26:22.079Z"
   },
   {
    "duration": 128,
    "start_time": "2023-01-08T10:26:22.095Z"
   },
   {
    "duration": 23,
    "start_time": "2023-01-08T10:26:22.226Z"
   },
   {
    "duration": 37,
    "start_time": "2023-01-08T10:26:22.251Z"
   },
   {
    "duration": 86,
    "start_time": "2023-01-08T10:26:22.290Z"
   },
   {
    "duration": 29229,
    "start_time": "2023-01-08T10:26:22.378Z"
   },
   {
    "duration": 14079,
    "start_time": "2023-01-08T10:26:51.609Z"
   },
   {
    "duration": 20,
    "start_time": "2023-01-08T10:27:05.690Z"
   },
   {
    "duration": 20,
    "start_time": "2023-01-08T10:27:05.712Z"
   },
   {
    "duration": 36,
    "start_time": "2023-01-08T10:27:05.734Z"
   },
   {
    "duration": 175,
    "start_time": "2023-01-08T10:27:05.772Z"
   },
   {
    "duration": 198,
    "start_time": "2023-01-08T10:27:05.949Z"
   },
   {
    "duration": 220,
    "start_time": "2023-01-08T10:27:06.149Z"
   },
   {
    "duration": 11690,
    "start_time": "2023-01-08T10:29:21.055Z"
   },
   {
    "duration": 5906,
    "start_time": "2023-01-08T10:30:14.880Z"
   },
   {
    "duration": 5959,
    "start_time": "2023-01-08T10:33:48.203Z"
   },
   {
    "duration": 17,
    "start_time": "2023-01-08T10:34:00.568Z"
   },
   {
    "duration": 3,
    "start_time": "2023-01-08T10:37:19.178Z"
   },
   {
    "duration": 746,
    "start_time": "2023-01-08T10:37:19.184Z"
   },
   {
    "duration": 12,
    "start_time": "2023-01-08T10:37:19.932Z"
   },
   {
    "duration": 132,
    "start_time": "2023-01-08T10:37:19.947Z"
   },
   {
    "duration": 26,
    "start_time": "2023-01-08T10:37:20.081Z"
   },
   {
    "duration": 40,
    "start_time": "2023-01-08T10:37:20.110Z"
   },
   {
    "duration": 74,
    "start_time": "2023-01-08T10:37:20.152Z"
   },
   {
    "duration": 6742,
    "start_time": "2023-01-08T10:37:20.228Z"
   },
   {
    "duration": 6434,
    "start_time": "2023-01-08T10:37:26.972Z"
   },
   {
    "duration": 22,
    "start_time": "2023-01-08T10:37:33.407Z"
   },
   {
    "duration": 15,
    "start_time": "2023-01-08T10:37:33.431Z"
   },
   {
    "duration": 32,
    "start_time": "2023-01-08T10:37:33.448Z"
   },
   {
    "duration": 152,
    "start_time": "2023-01-08T10:37:33.481Z"
   },
   {
    "duration": 161,
    "start_time": "2023-01-08T10:37:33.635Z"
   },
   {
    "duration": 168,
    "start_time": "2023-01-08T10:37:33.798Z"
   },
   {
    "duration": 64,
    "start_time": "2023-01-08T10:37:48.371Z"
   },
   {
    "duration": 6021,
    "start_time": "2023-01-08T10:38:24.227Z"
   },
   {
    "duration": 65,
    "start_time": "2023-01-08T10:38:40.560Z"
   },
   {
    "duration": 5974,
    "start_time": "2023-01-08T10:39:16.931Z"
   },
   {
    "duration": 64,
    "start_time": "2023-01-08T10:39:26.789Z"
   },
   {
    "duration": 2,
    "start_time": "2023-01-08T10:40:45.107Z"
   },
   {
    "duration": 658,
    "start_time": "2023-01-08T10:40:45.111Z"
   },
   {
    "duration": 14,
    "start_time": "2023-01-08T10:40:45.772Z"
   },
   {
    "duration": 136,
    "start_time": "2023-01-08T10:40:45.787Z"
   },
   {
    "duration": 20,
    "start_time": "2023-01-08T10:40:45.925Z"
   },
   {
    "duration": 38,
    "start_time": "2023-01-08T10:40:45.946Z"
   },
   {
    "duration": 75,
    "start_time": "2023-01-08T10:40:45.986Z"
   },
   {
    "duration": 6563,
    "start_time": "2023-01-08T10:40:46.063Z"
   },
   {
    "duration": 6723,
    "start_time": "2023-01-08T10:40:52.628Z"
   },
   {
    "duration": 18,
    "start_time": "2023-01-08T10:40:59.353Z"
   },
   {
    "duration": 116,
    "start_time": "2023-01-08T10:40:59.373Z"
   },
   {
    "duration": 6,
    "start_time": "2023-01-08T10:40:59.490Z"
   },
   {
    "duration": 39,
    "start_time": "2023-01-08T10:40:59.497Z"
   },
   {
    "duration": 157,
    "start_time": "2023-01-08T10:40:59.538Z"
   },
   {
    "duration": 169,
    "start_time": "2023-01-08T10:40:59.697Z"
   },
   {
    "duration": 177,
    "start_time": "2023-01-08T10:40:59.867Z"
   },
   {
    "duration": 33,
    "start_time": "2023-01-08T10:41:54.820Z"
   },
   {
    "duration": 66,
    "start_time": "2023-01-08T10:42:24.356Z"
   },
   {
    "duration": 12267,
    "start_time": "2023-01-08T10:42:32.914Z"
   },
   {
    "duration": 68,
    "start_time": "2023-01-08T10:42:51.760Z"
   },
   {
    "duration": 33,
    "start_time": "2023-01-08T10:43:40.310Z"
   },
   {
    "duration": 47,
    "start_time": "2023-01-08T10:45:29.016Z"
   },
   {
    "duration": 8,
    "start_time": "2023-01-08T10:45:54.886Z"
   },
   {
    "duration": 7,
    "start_time": "2023-01-08T10:46:12.392Z"
   },
   {
    "duration": 3,
    "start_time": "2023-01-08T10:47:29.019Z"
   },
   {
    "duration": 761,
    "start_time": "2023-01-08T10:47:29.024Z"
   },
   {
    "duration": 14,
    "start_time": "2023-01-08T10:47:29.788Z"
   },
   {
    "duration": 139,
    "start_time": "2023-01-08T10:47:29.803Z"
   },
   {
    "duration": 19,
    "start_time": "2023-01-08T10:47:29.944Z"
   },
   {
    "duration": 58,
    "start_time": "2023-01-08T10:47:29.965Z"
   },
   {
    "duration": 75,
    "start_time": "2023-01-08T10:47:30.025Z"
   },
   {
    "duration": 13884,
    "start_time": "2023-01-08T10:47:30.102Z"
   },
   {
    "duration": 6666,
    "start_time": "2023-01-08T10:47:43.988Z"
   },
   {
    "duration": 18,
    "start_time": "2023-01-08T10:47:50.656Z"
   },
   {
    "duration": 113,
    "start_time": "2023-01-08T10:47:50.676Z"
   },
   {
    "duration": 49,
    "start_time": "2023-01-08T10:47:50.791Z"
   },
   {
    "duration": 13,
    "start_time": "2023-01-08T10:47:50.842Z"
   },
   {
    "duration": 36,
    "start_time": "2023-01-08T10:47:50.856Z"
   },
   {
    "duration": 152,
    "start_time": "2023-01-08T10:47:50.894Z"
   },
   {
    "duration": 165,
    "start_time": "2023-01-08T10:47:51.047Z"
   },
   {
    "duration": 170,
    "start_time": "2023-01-08T10:47:51.214Z"
   },
   {
    "duration": 196,
    "start_time": "2023-01-08T10:50:17.312Z"
   },
   {
    "duration": 5908,
    "start_time": "2023-01-08T10:50:35.845Z"
   },
   {
    "duration": 11896,
    "start_time": "2023-01-08T10:51:04.507Z"
   },
   {
    "duration": 5982,
    "start_time": "2023-01-08T10:54:51.915Z"
   },
   {
    "duration": 42,
    "start_time": "2023-01-08T10:56:03.332Z"
   },
   {
    "duration": 42,
    "start_time": "2023-01-08T10:57:43.238Z"
   },
   {
    "duration": 6165,
    "start_time": "2023-01-08T10:58:10.753Z"
   },
   {
    "duration": 11975,
    "start_time": "2023-01-08T11:00:10.505Z"
   },
   {
    "duration": 725,
    "start_time": "2023-01-08T11:00:30.170Z"
   },
   {
    "duration": 12097,
    "start_time": "2023-01-08T11:00:38.110Z"
   },
   {
    "duration": 13215,
    "start_time": "2023-01-08T11:15:47.271Z"
   },
   {
    "duration": 66,
    "start_time": "2023-01-08T11:16:11.657Z"
   },
   {
    "duration": 733,
    "start_time": "2023-01-08T11:17:50.539Z"
   },
   {
    "duration": 13268,
    "start_time": "2023-01-08T11:18:13.632Z"
   },
   {
    "duration": 17,
    "start_time": "2023-01-08T11:18:54.647Z"
   },
   {
    "duration": 64,
    "start_time": "2023-01-08T11:19:00.316Z"
   },
   {
    "duration": 35,
    "start_time": "2023-01-08T11:23:41.283Z"
   },
   {
    "duration": 73,
    "start_time": "2023-01-08T11:23:44.689Z"
   },
   {
    "duration": 72,
    "start_time": "2023-01-08T12:20:12.027Z"
   },
   {
    "duration": 142,
    "start_time": "2023-01-08T12:22:43.140Z"
   },
   {
    "duration": 152,
    "start_time": "2023-01-08T12:23:19.185Z"
   },
   {
    "duration": 155,
    "start_time": "2023-01-08T12:25:15.715Z"
   },
   {
    "duration": 233,
    "start_time": "2023-01-08T12:26:15.966Z"
   },
   {
    "duration": 131,
    "start_time": "2023-01-08T12:26:20.172Z"
   },
   {
    "duration": 117,
    "start_time": "2023-01-08T12:26:23.505Z"
   },
   {
    "duration": 125,
    "start_time": "2023-01-08T12:27:05.482Z"
   },
   {
    "duration": 129,
    "start_time": "2023-01-08T12:27:24.776Z"
   },
   {
    "duration": 133,
    "start_time": "2023-01-08T12:27:41.521Z"
   },
   {
    "duration": 1374,
    "start_time": "2023-01-08T12:28:05.448Z"
   },
   {
    "duration": 9,
    "start_time": "2023-01-08T12:28:47.544Z"
   },
   {
    "duration": 22457,
    "start_time": "2023-01-08T12:29:09.558Z"
   },
   {
    "duration": 340,
    "start_time": "2023-01-08T12:29:59.274Z"
   },
   {
    "duration": 6,
    "start_time": "2023-01-08T12:32:36.530Z"
   },
   {
    "duration": 239,
    "start_time": "2023-01-08T12:35:33.495Z"
   },
   {
    "duration": 227,
    "start_time": "2023-01-08T12:36:16.451Z"
   },
   {
    "duration": 260,
    "start_time": "2023-01-08T12:36:31.063Z"
   },
   {
    "duration": 244,
    "start_time": "2023-01-08T12:36:47.360Z"
   },
   {
    "duration": 212,
    "start_time": "2023-01-08T12:37:41.163Z"
   },
   {
    "duration": 254,
    "start_time": "2023-01-08T12:37:52.268Z"
   },
   {
    "duration": 233,
    "start_time": "2023-01-08T12:38:39.350Z"
   },
   {
    "duration": 13,
    "start_time": "2023-01-08T12:43:25.550Z"
   },
   {
    "duration": 8,
    "start_time": "2023-01-08T12:43:44.869Z"
   },
   {
    "duration": 9,
    "start_time": "2023-01-08T12:44:24.983Z"
   },
   {
    "duration": 535,
    "start_time": "2023-01-08T12:45:27.722Z"
   },
   {
    "duration": 49,
    "start_time": "2023-01-08T12:45:37.174Z"
   },
   {
    "duration": 36,
    "start_time": "2023-01-08T12:47:45.947Z"
   },
   {
    "duration": 35,
    "start_time": "2023-01-08T12:48:05.149Z"
   },
   {
    "duration": 35,
    "start_time": "2023-01-08T12:48:40.191Z"
   },
   {
    "duration": 557,
    "start_time": "2023-01-08T12:48:50.935Z"
   },
   {
    "duration": 65,
    "start_time": "2023-01-08T12:49:00.127Z"
   },
   {
    "duration": 33,
    "start_time": "2023-01-08T12:49:34.136Z"
   },
   {
    "duration": 8,
    "start_time": "2023-01-08T12:49:43.335Z"
   },
   {
    "duration": 3,
    "start_time": "2023-01-08T12:49:47.145Z"
   },
   {
    "duration": 43,
    "start_time": "2023-01-09T03:08:48.832Z"
   },
   {
    "duration": 762,
    "start_time": "2023-01-09T03:08:53.887Z"
   },
   {
    "duration": 1021,
    "start_time": "2023-01-09T03:08:54.651Z"
   },
   {
    "duration": 17,
    "start_time": "2023-01-09T03:08:55.674Z"
   },
   {
    "duration": 110,
    "start_time": "2023-01-09T03:08:55.692Z"
   },
   {
    "duration": 21,
    "start_time": "2023-01-09T03:08:55.804Z"
   },
   {
    "duration": 68,
    "start_time": "2023-01-09T03:08:55.827Z"
   },
   {
    "duration": 90,
    "start_time": "2023-01-09T03:08:55.912Z"
   },
   {
    "duration": 13609,
    "start_time": "2023-01-09T03:08:56.011Z"
   },
   {
    "duration": 13347,
    "start_time": "2023-01-09T03:09:09.622Z"
   },
   {
    "duration": 5,
    "start_time": "2023-01-09T03:09:22.970Z"
   },
   {
    "duration": 44,
    "start_time": "2023-01-09T03:09:22.976Z"
   },
   {
    "duration": 167,
    "start_time": "2023-01-09T03:09:23.022Z"
   },
   {
    "duration": 166,
    "start_time": "2023-01-09T03:09:23.190Z"
   },
   {
    "duration": 67,
    "start_time": "2023-01-09T03:09:23.358Z"
   },
   {
    "duration": 153,
    "start_time": "2023-01-09T03:09:23.427Z"
   },
   {
    "duration": 313,
    "start_time": "2023-01-09T03:09:23.581Z"
   },
   {
    "duration": 5,
    "start_time": "2023-01-09T03:09:23.896Z"
   },
   {
    "duration": 233,
    "start_time": "2023-01-09T03:09:23.912Z"
   },
   {
    "duration": 40,
    "start_time": "2023-01-09T03:09:24.147Z"
   },
   {
    "duration": 378,
    "start_time": "2023-01-09T03:09:24.189Z"
   },
   {
    "duration": 339,
    "start_time": "2023-01-09T03:10:15.924Z"
   },
   {
    "duration": 124,
    "start_time": "2023-01-09T03:11:10.953Z"
   },
   {
    "duration": 284,
    "start_time": "2023-01-09T03:11:46.270Z"
   },
   {
    "duration": 7,
    "start_time": "2023-01-09T03:11:58.397Z"
   },
   {
    "duration": 62,
    "start_time": "2023-01-09T03:16:22.639Z"
   },
   {
    "duration": 31,
    "start_time": "2023-01-09T03:17:08.926Z"
   },
   {
    "duration": 21,
    "start_time": "2023-01-09T03:17:15.806Z"
   },
   {
    "duration": 40,
    "start_time": "2023-01-09T03:17:23.135Z"
   },
   {
    "duration": 29,
    "start_time": "2023-01-09T03:17:54.102Z"
   },
   {
    "duration": 147,
    "start_time": "2023-01-09T03:19:33.141Z"
   },
   {
    "duration": 147,
    "start_time": "2023-01-09T03:20:45.521Z"
   },
   {
    "duration": 60,
    "start_time": "2023-01-09T03:22:11.813Z"
   },
   {
    "duration": 172,
    "start_time": "2023-01-09T03:41:39.407Z"
   },
   {
    "duration": 37,
    "start_time": "2023-01-09T03:41:43.519Z"
   },
   {
    "duration": 40,
    "start_time": "2023-01-09T03:44:44.505Z"
   },
   {
    "duration": 724,
    "start_time": "2023-01-09T03:47:46.175Z"
   },
   {
    "duration": 77,
    "start_time": "2023-01-09T03:49:05.954Z"
   },
   {
    "duration": 2,
    "start_time": "2023-01-09T04:08:13.234Z"
   },
   {
    "duration": 62,
    "start_time": "2023-01-09T04:10:44.213Z"
   },
   {
    "duration": 3,
    "start_time": "2023-01-09T04:11:12.217Z"
   },
   {
    "duration": 3,
    "start_time": "2023-01-09T04:11:17.626Z"
   },
   {
    "duration": 21,
    "start_time": "2023-01-09T04:13:21.450Z"
   },
   {
    "duration": 3,
    "start_time": "2023-01-09T04:17:22.976Z"
   },
   {
    "duration": 22865,
    "start_time": "2023-01-09T04:33:13.650Z"
   },
   {
    "duration": 18968,
    "start_time": "2023-01-09T04:34:13.059Z"
   },
   {
    "duration": 11870,
    "start_time": "2023-01-09T04:36:09.547Z"
   },
   {
    "duration": 8418,
    "start_time": "2023-01-09T04:42:41.607Z"
   },
   {
    "duration": 6056,
    "start_time": "2023-01-09T04:46:59.581Z"
   },
   {
    "duration": 10819,
    "start_time": "2023-01-09T04:52:35.593Z"
   },
   {
    "duration": 3,
    "start_time": "2023-01-09T04:53:00.428Z"
   },
   {
    "duration": 11693,
    "start_time": "2023-01-09T04:53:03.520Z"
   },
   {
    "duration": 3,
    "start_time": "2023-01-09T04:56:19.224Z"
   },
   {
    "duration": 59,
    "start_time": "2023-01-09T04:56:21.698Z"
   },
   {
    "duration": 10651,
    "start_time": "2023-01-09T04:56:28.468Z"
   },
   {
    "duration": 29,
    "start_time": "2023-01-09T05:04:45.906Z"
   },
   {
    "duration": 15139,
    "start_time": "2023-01-09T05:07:48.853Z"
   },
   {
    "duration": 44,
    "start_time": "2023-01-09T05:09:07.592Z"
   },
   {
    "duration": 4,
    "start_time": "2023-01-09T05:09:19.293Z"
   },
   {
    "duration": 5,
    "start_time": "2023-01-09T05:09:27.143Z"
   },
   {
    "duration": 4,
    "start_time": "2023-01-09T05:09:39.192Z"
   },
   {
    "duration": 5,
    "start_time": "2023-01-09T05:09:42.731Z"
   },
   {
    "duration": 42,
    "start_time": "2023-01-09T05:20:57.379Z"
   },
   {
    "duration": 17,
    "start_time": "2023-01-09T05:22:03.118Z"
   },
   {
    "duration": 4,
    "start_time": "2023-01-09T05:22:28.672Z"
   },
   {
    "duration": 740,
    "start_time": "2023-01-09T05:22:28.678Z"
   },
   {
    "duration": 12,
    "start_time": "2023-01-09T05:22:29.420Z"
   },
   {
    "duration": 112,
    "start_time": "2023-01-09T05:22:29.434Z"
   },
   {
    "duration": 20,
    "start_time": "2023-01-09T05:22:29.547Z"
   },
   {
    "duration": 70,
    "start_time": "2023-01-09T05:22:29.568Z"
   },
   {
    "duration": 91,
    "start_time": "2023-01-09T05:22:29.641Z"
   },
   {
    "duration": 14343,
    "start_time": "2023-01-09T05:22:29.734Z"
   },
   {
    "duration": 14400,
    "start_time": "2023-01-09T05:22:44.080Z"
   },
   {
    "duration": 7,
    "start_time": "2023-01-09T05:22:58.481Z"
   },
   {
    "duration": 41,
    "start_time": "2023-01-09T05:22:58.490Z"
   },
   {
    "duration": 205,
    "start_time": "2023-01-09T05:22:58.533Z"
   },
   {
    "duration": 162,
    "start_time": "2023-01-09T05:22:58.740Z"
   },
   {
    "duration": 69,
    "start_time": "2023-01-09T05:22:58.904Z"
   },
   {
    "duration": 24,
    "start_time": "2023-01-09T05:22:58.975Z"
   },
   {
    "duration": 160,
    "start_time": "2023-01-09T05:22:59.013Z"
   },
   {
    "duration": 389,
    "start_time": "2023-01-09T05:22:59.176Z"
   },
   {
    "duration": 7,
    "start_time": "2023-01-09T05:22:59.567Z"
   },
   {
    "duration": 265,
    "start_time": "2023-01-09T05:22:59.575Z"
   },
   {
    "duration": 55,
    "start_time": "2023-01-09T05:22:59.843Z"
   },
   {
    "duration": 461,
    "start_time": "2023-01-09T05:22:59.911Z"
   },
   {
    "duration": 239,
    "start_time": "2023-01-09T05:23:00.373Z"
   },
   {
    "duration": 24,
    "start_time": "2023-01-09T05:23:00.613Z"
   },
   {
    "duration": 173,
    "start_time": "2023-01-09T05:23:00.641Z"
   },
   {
    "duration": 157,
    "start_time": "2023-01-09T05:23:00.816Z"
   },
   {
    "duration": 65,
    "start_time": "2023-01-09T05:23:00.975Z"
   },
   {
    "duration": 189,
    "start_time": "2023-01-09T05:23:01.042Z"
   },
   {
    "duration": 43,
    "start_time": "2023-01-09T05:23:01.233Z"
   },
   {
    "duration": 92,
    "start_time": "2023-01-09T05:23:01.278Z"
   },
   {
    "duration": 3,
    "start_time": "2023-01-09T05:23:01.372Z"
   },
   {
    "duration": 9134,
    "start_time": "2023-01-09T05:23:01.377Z"
   },
   {
    "duration": 16210,
    "start_time": "2023-01-09T05:23:10.514Z"
   },
   {
    "duration": 5,
    "start_time": "2023-01-09T05:23:26.725Z"
   },
   {
    "duration": 15,
    "start_time": "2023-01-09T05:23:26.732Z"
   },
   {
    "duration": 42,
    "start_time": "2023-01-09T05:23:26.749Z"
   },
   {
    "duration": 31,
    "start_time": "2023-01-09T05:23:26.793Z"
   },
   {
    "duration": 4,
    "start_time": "2023-01-09T05:23:53.997Z"
   },
   {
    "duration": 702,
    "start_time": "2023-01-09T05:23:54.004Z"
   },
   {
    "duration": 14,
    "start_time": "2023-01-09T05:23:54.708Z"
   },
   {
    "duration": 112,
    "start_time": "2023-01-09T05:23:54.723Z"
   },
   {
    "duration": 24,
    "start_time": "2023-01-09T05:23:54.837Z"
   },
   {
    "duration": 77,
    "start_time": "2023-01-09T05:23:54.863Z"
   },
   {
    "duration": 88,
    "start_time": "2023-01-09T05:23:54.942Z"
   },
   {
    "duration": 13824,
    "start_time": "2023-01-09T05:23:55.032Z"
   },
   {
    "duration": 13876,
    "start_time": "2023-01-09T05:24:08.857Z"
   },
   {
    "duration": 5,
    "start_time": "2023-01-09T05:24:22.735Z"
   },
   {
    "duration": 30,
    "start_time": "2023-01-09T05:24:22.742Z"
   },
   {
    "duration": 170,
    "start_time": "2023-01-09T05:24:22.774Z"
   },
   {
    "duration": 161,
    "start_time": "2023-01-09T05:24:22.946Z"
   },
   {
    "duration": 63,
    "start_time": "2023-01-09T05:24:23.111Z"
   },
   {
    "duration": 178,
    "start_time": "2023-01-09T05:24:23.176Z"
   },
   {
    "duration": 24,
    "start_time": "2023-01-09T05:24:23.357Z"
   },
   {
    "duration": 389,
    "start_time": "2023-01-09T05:24:23.383Z"
   },
   {
    "duration": 6,
    "start_time": "2023-01-09T05:24:23.774Z"
   },
   {
    "duration": 271,
    "start_time": "2023-01-09T05:24:23.781Z"
   },
   {
    "duration": 33,
    "start_time": "2023-01-09T05:24:24.054Z"
   },
   {
    "duration": 342,
    "start_time": "2023-01-09T05:24:24.089Z"
   },
   {
    "duration": 17,
    "start_time": "2023-01-09T05:24:24.432Z"
   },
   {
    "duration": 340,
    "start_time": "2023-01-09T05:24:24.451Z"
   },
   {
    "duration": 38,
    "start_time": "2023-01-09T05:24:24.793Z"
   },
   {
    "duration": 192,
    "start_time": "2023-01-09T05:24:24.833Z"
   },
   {
    "duration": 159,
    "start_time": "2023-01-09T05:24:25.027Z"
   },
   {
    "duration": 67,
    "start_time": "2023-01-09T05:24:25.187Z"
   },
   {
    "duration": 196,
    "start_time": "2023-01-09T05:24:25.256Z"
   },
   {
    "duration": 37,
    "start_time": "2023-01-09T05:24:25.454Z"
   },
   {
    "duration": 88,
    "start_time": "2023-01-09T05:24:25.493Z"
   },
   {
    "duration": 3,
    "start_time": "2023-01-09T05:24:25.583Z"
   },
   {
    "duration": 8172,
    "start_time": "2023-01-09T05:24:25.588Z"
   },
   {
    "duration": 15209,
    "start_time": "2023-01-09T05:24:33.815Z"
   },
   {
    "duration": 4,
    "start_time": "2023-01-09T05:24:49.026Z"
   },
   {
    "duration": 11,
    "start_time": "2023-01-09T05:24:49.032Z"
   },
   {
    "duration": 39,
    "start_time": "2023-01-09T05:24:49.044Z"
   },
   {
    "duration": 36,
    "start_time": "2023-01-09T05:24:49.085Z"
   },
   {
    "duration": 4,
    "start_time": "2023-01-09T05:25:41.557Z"
   },
   {
    "duration": 762,
    "start_time": "2023-01-09T05:25:41.563Z"
   },
   {
    "duration": 15,
    "start_time": "2023-01-09T05:25:42.329Z"
   },
   {
    "duration": 115,
    "start_time": "2023-01-09T05:25:42.345Z"
   },
   {
    "duration": 19,
    "start_time": "2023-01-09T05:25:42.462Z"
   },
   {
    "duration": 72,
    "start_time": "2023-01-09T05:25:42.483Z"
   },
   {
    "duration": 88,
    "start_time": "2023-01-09T05:25:42.557Z"
   },
   {
    "duration": 14372,
    "start_time": "2023-01-09T05:25:42.647Z"
   },
   {
    "duration": 14415,
    "start_time": "2023-01-09T05:25:57.021Z"
   },
   {
    "duration": 8,
    "start_time": "2023-01-09T05:26:11.439Z"
   },
   {
    "duration": 28,
    "start_time": "2023-01-09T05:26:11.449Z"
   },
   {
    "duration": 162,
    "start_time": "2023-01-09T05:26:11.479Z"
   },
   {
    "duration": 188,
    "start_time": "2023-01-09T05:26:11.644Z"
   },
   {
    "duration": 128,
    "start_time": "2023-01-09T05:26:11.835Z"
   },
   {
    "duration": 168,
    "start_time": "2023-01-09T05:26:11.965Z"
   },
   {
    "duration": 21,
    "start_time": "2023-01-09T05:26:12.135Z"
   },
   {
    "duration": 407,
    "start_time": "2023-01-09T05:26:12.159Z"
   },
   {
    "duration": 8,
    "start_time": "2023-01-09T05:26:12.569Z"
   },
   {
    "duration": 278,
    "start_time": "2023-01-09T05:26:12.579Z"
   },
   {
    "duration": 23,
    "start_time": "2023-01-09T05:26:12.859Z"
   },
   {
    "duration": 404,
    "start_time": "2023-01-09T05:26:12.884Z"
   },
   {
    "duration": 25,
    "start_time": "2023-01-09T05:26:13.289Z"
   },
   {
    "duration": 314,
    "start_time": "2023-01-09T05:26:13.316Z"
   },
   {
    "duration": 28,
    "start_time": "2023-01-09T05:26:13.633Z"
   },
   {
    "duration": 185,
    "start_time": "2023-01-09T05:26:13.663Z"
   },
   {
    "duration": 148,
    "start_time": "2023-01-09T05:26:13.850Z"
   },
   {
    "duration": 80,
    "start_time": "2023-01-09T05:26:14.000Z"
   },
   {
    "duration": 661,
    "start_time": "2023-01-09T05:26:14.081Z"
   },
   {
    "duration": 189,
    "start_time": "2023-01-09T05:26:14.745Z"
   },
   {
    "duration": 324,
    "start_time": "2023-01-09T05:26:14.936Z"
   },
   {
    "duration": 3,
    "start_time": "2023-01-09T05:26:15.262Z"
   },
   {
    "duration": 54658,
    "start_time": "2023-01-09T05:26:15.267Z"
   },
   {
    "duration": 137187,
    "start_time": "2023-01-09T05:27:09.927Z"
   },
   {
    "duration": 5,
    "start_time": "2023-01-09T05:29:27.116Z"
   },
   {
    "duration": 10,
    "start_time": "2023-01-09T05:29:27.123Z"
   },
   {
    "duration": 38,
    "start_time": "2023-01-09T05:29:27.135Z"
   },
   {
    "duration": 167,
    "start_time": "2023-01-09T05:29:27.175Z"
   },
   {
    "duration": 18,
    "start_time": "2023-01-09T05:29:27.345Z"
   },
   {
    "duration": 46,
    "start_time": "2023-01-09T05:32:09.712Z"
   },
   {
    "duration": 253,
    "start_time": "2023-01-09T05:32:30.136Z"
   },
   {
    "duration": 247,
    "start_time": "2023-01-09T05:32:41.259Z"
   },
   {
    "duration": 275,
    "start_time": "2023-01-09T05:33:11.765Z"
   },
   {
    "duration": 48,
    "start_time": "2023-01-09T05:35:43.250Z"
   },
   {
    "duration": 18,
    "start_time": "2023-01-09T05:35:55.564Z"
   },
   {
    "duration": 3,
    "start_time": "2023-01-09T06:37:42.441Z"
   },
   {
    "duration": 4,
    "start_time": "2023-01-09T06:37:49.030Z"
   },
   {
    "duration": 5,
    "start_time": "2023-01-09T06:38:13.446Z"
   },
   {
    "duration": 5,
    "start_time": "2023-01-09T06:38:31.726Z"
   },
   {
    "duration": 3,
    "start_time": "2023-01-09T06:38:56.913Z"
   },
   {
    "duration": 711,
    "start_time": "2023-01-09T06:38:56.918Z"
   },
   {
    "duration": 13,
    "start_time": "2023-01-09T06:38:57.630Z"
   },
   {
    "duration": 110,
    "start_time": "2023-01-09T06:38:57.645Z"
   },
   {
    "duration": 19,
    "start_time": "2023-01-09T06:38:57.758Z"
   },
   {
    "duration": 73,
    "start_time": "2023-01-09T06:38:57.778Z"
   },
   {
    "duration": 84,
    "start_time": "2023-01-09T06:38:57.853Z"
   },
   {
    "duration": 13854,
    "start_time": "2023-01-09T06:38:57.939Z"
   },
   {
    "duration": 13891,
    "start_time": "2023-01-09T06:39:11.794Z"
   },
   {
    "duration": 6,
    "start_time": "2023-01-09T06:39:25.687Z"
   },
   {
    "duration": 36,
    "start_time": "2023-01-09T06:39:25.694Z"
   },
   {
    "duration": 172,
    "start_time": "2023-01-09T06:39:25.732Z"
   },
   {
    "duration": 170,
    "start_time": "2023-01-09T06:39:25.907Z"
   },
   {
    "duration": 69,
    "start_time": "2023-01-09T06:39:26.078Z"
   },
   {
    "duration": 176,
    "start_time": "2023-01-09T06:39:26.148Z"
   },
   {
    "duration": 418,
    "start_time": "2023-01-09T06:39:26.326Z"
   },
   {
    "duration": 6,
    "start_time": "2023-01-09T06:39:26.746Z"
   },
   {
    "duration": 269,
    "start_time": "2023-01-09T06:39:26.753Z"
   },
   {
    "duration": 24,
    "start_time": "2023-01-09T06:39:27.024Z"
   },
   {
    "duration": 367,
    "start_time": "2023-01-09T06:39:27.049Z"
   },
   {
    "duration": 395,
    "start_time": "2023-01-09T06:39:27.417Z"
   },
   {
    "duration": 23,
    "start_time": "2023-01-09T06:39:27.813Z"
   },
   {
    "duration": 185,
    "start_time": "2023-01-09T06:39:27.837Z"
   },
   {
    "duration": 132,
    "start_time": "2023-01-09T06:39:28.024Z"
   },
   {
    "duration": 76,
    "start_time": "2023-01-09T06:39:28.158Z"
   },
   {
    "duration": 620,
    "start_time": "2023-01-09T06:39:28.236Z"
   },
   {
    "duration": 179,
    "start_time": "2023-01-09T06:39:28.858Z"
   },
   {
    "duration": 273,
    "start_time": "2023-01-09T06:39:29.039Z"
   },
   {
    "duration": 4,
    "start_time": "2023-01-09T06:39:29.314Z"
   },
   {
    "duration": 39594,
    "start_time": "2023-01-09T06:39:29.319Z"
   },
   {
    "duration": 131449,
    "start_time": "2023-01-09T06:40:08.915Z"
   },
   {
    "duration": 3,
    "start_time": "2023-01-09T06:42:20.366Z"
   },
   {
    "duration": 19,
    "start_time": "2023-01-09T06:42:20.371Z"
   },
   {
    "duration": 9,
    "start_time": "2023-01-09T06:42:20.391Z"
   },
   {
    "duration": 48,
    "start_time": "2023-01-09T06:42:54.181Z"
   },
   {
    "duration": 4,
    "start_time": "2023-01-09T06:43:02.511Z"
   },
   {
    "duration": 57,
    "start_time": "2023-01-09T06:59:45.739Z"
   },
   {
    "duration": 96,
    "start_time": "2023-01-09T07:00:34.942Z"
   },
   {
    "duration": 53,
    "start_time": "2023-01-09T07:02:21.130Z"
   },
   {
    "duration": 60,
    "start_time": "2023-01-09T07:03:10.239Z"
   },
   {
    "duration": 470601,
    "start_time": "2023-01-09T07:05:01.184Z"
   },
   {
    "duration": 65,
    "start_time": "2023-01-09T07:24:02.681Z"
   },
   {
    "duration": 3,
    "start_time": "2023-01-09T07:27:06.275Z"
   },
   {
    "duration": 10,
    "start_time": "2023-01-09T07:27:43.647Z"
   },
   {
    "duration": 24,
    "start_time": "2023-01-09T07:39:41.137Z"
   },
   {
    "duration": 153280,
    "start_time": "2023-01-09T08:03:37.736Z"
   },
   {
    "duration": 2,
    "start_time": "2023-01-09T12:18:59.246Z"
   },
   {
    "duration": 5,
    "start_time": "2023-01-09T12:19:58.477Z"
   },
   {
    "duration": 737,
    "start_time": "2023-01-09T12:19:58.484Z"
   },
   {
    "duration": 15,
    "start_time": "2023-01-09T12:19:59.222Z"
   },
   {
    "duration": 132,
    "start_time": "2023-01-09T12:19:59.239Z"
   },
   {
    "duration": 21,
    "start_time": "2023-01-09T12:19:59.373Z"
   },
   {
    "duration": 76,
    "start_time": "2023-01-09T12:19:59.395Z"
   },
   {
    "duration": 101,
    "start_time": "2023-01-09T12:19:59.472Z"
   },
   {
    "duration": 15329,
    "start_time": "2023-01-09T12:19:59.574Z"
   },
   {
    "duration": 14576,
    "start_time": "2023-01-09T12:20:14.905Z"
   },
   {
    "duration": 6,
    "start_time": "2023-01-09T12:20:29.484Z"
   },
   {
    "duration": 44,
    "start_time": "2023-01-09T12:20:29.492Z"
   },
   {
    "duration": 149,
    "start_time": "2023-01-09T12:20:29.538Z"
   },
   {
    "duration": 175,
    "start_time": "2023-01-09T12:20:29.689Z"
   },
   {
    "duration": 68,
    "start_time": "2023-01-09T12:20:29.866Z"
   },
   {
    "duration": 168,
    "start_time": "2023-01-09T12:20:29.936Z"
   },
   {
    "duration": 402,
    "start_time": "2023-01-09T12:20:30.112Z"
   },
   {
    "duration": 11,
    "start_time": "2023-01-09T12:20:30.516Z"
   },
   {
    "duration": 294,
    "start_time": "2023-01-09T12:20:30.529Z"
   },
   {
    "duration": 28,
    "start_time": "2023-01-09T12:20:30.825Z"
   },
   {
    "duration": 410,
    "start_time": "2023-01-09T12:20:30.855Z"
   },
   {
    "duration": 263,
    "start_time": "2023-01-09T12:20:31.267Z"
   },
   {
    "duration": 22,
    "start_time": "2023-01-09T12:20:31.531Z"
   },
   {
    "duration": 177,
    "start_time": "2023-01-09T12:20:31.554Z"
   },
   {
    "duration": 160,
    "start_time": "2023-01-09T12:20:31.733Z"
   },
   {
    "duration": 68,
    "start_time": "2023-01-09T12:20:31.895Z"
   },
   {
    "duration": 586,
    "start_time": "2023-01-09T12:20:31.965Z"
   },
   {
    "duration": 185,
    "start_time": "2023-01-09T12:20:32.553Z"
   },
   {
    "duration": 304,
    "start_time": "2023-01-09T12:20:32.742Z"
   },
   {
    "duration": 3,
    "start_time": "2023-01-09T12:20:33.049Z"
   },
   {
    "duration": 54463,
    "start_time": "2023-01-09T12:20:33.053Z"
   },
   {
    "duration": 484334,
    "start_time": "2023-01-09T12:21:27.518Z"
   },
   {
    "duration": 527464,
    "start_time": "2023-01-09T12:29:31.854Z"
   },
   {
    "duration": 614763,
    "start_time": "2023-01-09T12:38:25.435Z"
   },
   {
    "duration": 89,
    "start_time": "2023-01-09T12:49:55.124Z"
   },
   {
    "duration": 1458,
    "start_time": "2023-01-09T12:50:25.716Z"
   },
   {
    "duration": 835,
    "start_time": "2023-01-09T12:50:27.176Z"
   },
   {
    "duration": 18,
    "start_time": "2023-01-09T12:50:28.013Z"
   },
   {
    "duration": 122,
    "start_time": "2023-01-09T12:50:28.032Z"
   },
   {
    "duration": 21,
    "start_time": "2023-01-09T12:50:28.156Z"
   },
   {
    "duration": 76,
    "start_time": "2023-01-09T12:50:28.179Z"
   },
   {
    "duration": 96,
    "start_time": "2023-01-09T12:50:28.257Z"
   },
   {
    "duration": 14848,
    "start_time": "2023-01-09T12:50:28.355Z"
   },
   {
    "duration": 14925,
    "start_time": "2023-01-09T12:50:43.205Z"
   },
   {
    "duration": 6,
    "start_time": "2023-01-09T12:50:58.134Z"
   },
   {
    "duration": 50,
    "start_time": "2023-01-09T12:50:58.142Z"
   },
   {
    "duration": 200,
    "start_time": "2023-01-09T12:50:58.194Z"
   },
   {
    "duration": 171,
    "start_time": "2023-01-09T12:50:58.396Z"
   },
   {
    "duration": 71,
    "start_time": "2023-01-09T12:50:58.570Z"
   },
   {
    "duration": 167,
    "start_time": "2023-01-09T12:50:58.642Z"
   },
   {
    "duration": 356,
    "start_time": "2023-01-09T12:50:58.810Z"
   },
   {
    "duration": 5,
    "start_time": "2023-01-09T12:50:59.168Z"
   },
   {
    "duration": 295,
    "start_time": "2023-01-09T12:50:59.175Z"
   },
   {
    "duration": 25,
    "start_time": "2023-01-09T12:50:59.472Z"
   },
   {
    "duration": 443,
    "start_time": "2023-01-09T12:50:59.499Z"
   },
   {
    "duration": 260,
    "start_time": "2023-01-09T12:50:59.945Z"
   },
   {
    "duration": 21,
    "start_time": "2023-01-09T12:51:00.212Z"
   },
   {
    "duration": 247,
    "start_time": "2023-01-09T12:51:00.235Z"
   },
   {
    "duration": 157,
    "start_time": "2023-01-09T12:51:00.484Z"
   },
   {
    "duration": 70,
    "start_time": "2023-01-09T12:51:00.643Z"
   },
   {
    "duration": 815,
    "start_time": "2023-01-09T12:51:00.715Z"
   },
   {
    "duration": 184,
    "start_time": "2023-01-09T12:51:01.532Z"
   },
   {
    "duration": 262,
    "start_time": "2023-01-09T12:51:01.718Z"
   },
   {
    "duration": 3,
    "start_time": "2023-01-09T12:51:01.982Z"
   },
   {
    "duration": 23446,
    "start_time": "2023-01-09T12:51:23.280Z"
   },
   {
    "duration": 248,
    "start_time": "2023-01-09T12:52:04.865Z"
   },
   {
    "duration": 5,
    "start_time": "2023-01-09T12:52:08.942Z"
   },
   {
    "duration": 78035,
    "start_time": "2023-01-09T12:52:33.041Z"
   },
   {
    "duration": 316,
    "start_time": "2023-01-09T12:54:18.697Z"
   },
   {
    "duration": 5,
    "start_time": "2023-01-09T12:54:23.902Z"
   },
   {
    "duration": 5,
    "start_time": "2023-01-09T12:54:48.476Z"
   },
   {
    "duration": 834675,
    "start_time": "2023-01-09T12:54:59.243Z"
   },
   {
    "duration": 1073,
    "start_time": "2023-01-09T13:28:39.364Z"
   },
   {
    "duration": 4,
    "start_time": "2023-01-09T13:28:59.816Z"
   },
   {
    "duration": 3195,
    "start_time": "2023-01-09T15:29:57.227Z"
   },
   {
    "duration": 3366,
    "start_time": "2023-01-09T15:30:00.425Z"
   },
   {
    "duration": 20,
    "start_time": "2023-01-09T15:30:03.793Z"
   },
   {
    "duration": 133,
    "start_time": "2023-01-09T15:30:03.816Z"
   },
   {
    "duration": 21,
    "start_time": "2023-01-09T15:30:03.951Z"
   },
   {
    "duration": 65,
    "start_time": "2023-01-09T15:30:03.973Z"
   },
   {
    "duration": 99,
    "start_time": "2023-01-09T15:30:04.040Z"
   },
   {
    "duration": 14022,
    "start_time": "2023-01-09T15:30:04.140Z"
   },
   {
    "duration": 13970,
    "start_time": "2023-01-09T15:30:18.164Z"
   },
   {
    "duration": 6,
    "start_time": "2023-01-09T15:30:32.136Z"
   },
   {
    "duration": 48,
    "start_time": "2023-01-09T15:30:32.144Z"
   },
   {
    "duration": 172,
    "start_time": "2023-01-09T15:30:32.194Z"
   },
   {
    "duration": 164,
    "start_time": "2023-01-09T15:30:32.368Z"
   },
   {
    "duration": 69,
    "start_time": "2023-01-09T15:30:32.535Z"
   },
   {
    "duration": 176,
    "start_time": "2023-01-09T15:30:32.606Z"
   },
   {
    "duration": 336,
    "start_time": "2023-01-09T15:30:32.785Z"
   },
   {
    "duration": 6,
    "start_time": "2023-01-09T15:30:33.126Z"
   },
   {
    "duration": 261,
    "start_time": "2023-01-09T15:30:33.134Z"
   },
   {
    "duration": 35,
    "start_time": "2023-01-09T15:30:33.397Z"
   },
   {
    "duration": 483,
    "start_time": "2023-01-09T15:30:33.434Z"
   },
   {
    "duration": 252,
    "start_time": "2023-01-09T15:30:33.919Z"
   },
   {
    "duration": 22,
    "start_time": "2023-01-09T15:30:34.172Z"
   },
   {
    "duration": 176,
    "start_time": "2023-01-09T15:30:34.196Z"
   },
   {
    "duration": 136,
    "start_time": "2023-01-09T15:30:34.374Z"
   },
   {
    "duration": 72,
    "start_time": "2023-01-09T15:30:34.512Z"
   },
   {
    "duration": 607,
    "start_time": "2023-01-09T15:30:34.586Z"
   },
   {
    "duration": 188,
    "start_time": "2023-01-09T15:30:35.195Z"
   },
   {
    "duration": 283,
    "start_time": "2023-01-09T15:30:35.385Z"
   },
   {
    "duration": 3,
    "start_time": "2023-01-09T15:30:35.671Z"
   },
   {
    "duration": 47151,
    "start_time": "2023-01-09T15:30:35.676Z"
   },
   {
    "duration": 180534,
    "start_time": "2023-01-09T15:31:22.829Z"
   },
   {
    "duration": 5,
    "start_time": "2023-01-09T15:34:23.364Z"
   },
   {
    "duration": 0,
    "start_time": "2023-01-09T15:34:23.370Z"
   },
   {
    "duration": 0,
    "start_time": "2023-01-09T15:34:23.372Z"
   },
   {
    "duration": 0,
    "start_time": "2023-01-09T15:34:23.373Z"
   },
   {
    "duration": 0,
    "start_time": "2023-01-09T15:34:23.374Z"
   },
   {
    "duration": 0,
    "start_time": "2023-01-09T15:34:23.375Z"
   },
   {
    "duration": 0,
    "start_time": "2023-01-09T15:34:23.376Z"
   },
   {
    "duration": 0,
    "start_time": "2023-01-09T15:34:23.377Z"
   },
   {
    "duration": 0,
    "start_time": "2023-01-09T15:34:23.379Z"
   },
   {
    "duration": 0,
    "start_time": "2023-01-09T15:34:23.380Z"
   },
   {
    "duration": 1706,
    "start_time": "2023-01-10T04:14:12.975Z"
   },
   {
    "duration": 3173,
    "start_time": "2023-01-10T04:14:14.684Z"
   },
   {
    "duration": 28,
    "start_time": "2023-01-10T04:14:17.859Z"
   },
   {
    "duration": 164,
    "start_time": "2023-01-10T04:14:17.890Z"
   },
   {
    "duration": 27,
    "start_time": "2023-01-10T04:14:18.055Z"
   },
   {
    "duration": 101,
    "start_time": "2023-01-10T04:14:18.084Z"
   },
   {
    "duration": 110,
    "start_time": "2023-01-10T04:14:18.187Z"
   },
   {
    "duration": 18053,
    "start_time": "2023-01-10T04:14:18.300Z"
   },
   {
    "duration": 18662,
    "start_time": "2023-01-10T04:14:36.355Z"
   },
   {
    "duration": 8,
    "start_time": "2023-01-10T04:14:55.020Z"
   },
   {
    "duration": 54,
    "start_time": "2023-01-10T04:14:55.030Z"
   },
   {
    "duration": 207,
    "start_time": "2023-01-10T04:14:55.087Z"
   },
   {
    "duration": 183,
    "start_time": "2023-01-10T04:14:55.296Z"
   },
   {
    "duration": 100,
    "start_time": "2023-01-10T04:14:55.481Z"
   },
   {
    "duration": 192,
    "start_time": "2023-01-10T04:14:55.583Z"
   },
   {
    "duration": 466,
    "start_time": "2023-01-10T04:15:42.752Z"
   },
   {
    "duration": 168,
    "start_time": "2023-01-10T04:16:22.974Z"
   },
   {
    "duration": 334,
    "start_time": "2023-01-10T04:16:30.802Z"
   },
   {
    "duration": 255,
    "start_time": "2023-01-10T04:16:51.287Z"
   },
   {
    "duration": 260,
    "start_time": "2023-01-10T04:18:45.254Z"
   },
   {
    "duration": 258,
    "start_time": "2023-01-10T04:18:56.858Z"
   },
   {
    "duration": 274,
    "start_time": "2023-01-10T04:19:01.335Z"
   },
   {
    "duration": 267,
    "start_time": "2023-01-10T04:20:07.271Z"
   },
   {
    "duration": 349,
    "start_time": "2023-01-10T04:20:27.779Z"
   },
   {
    "duration": 258,
    "start_time": "2023-01-10T04:21:13.019Z"
   },
   {
    "duration": 207,
    "start_time": "2023-01-10T04:21:19.922Z"
   },
   {
    "duration": 171,
    "start_time": "2023-01-10T04:21:23.033Z"
   },
   {
    "duration": 33,
    "start_time": "2023-01-10T04:24:24.115Z"
   },
   {
    "duration": 456,
    "start_time": "2023-01-10T04:26:47.997Z"
   },
   {
    "duration": 7,
    "start_time": "2023-01-10T04:26:48.455Z"
   },
   {
    "duration": 289,
    "start_time": "2023-01-10T04:26:48.464Z"
   },
   {
    "duration": 23,
    "start_time": "2023-01-10T04:26:48.755Z"
   },
   {
    "duration": 497,
    "start_time": "2023-01-10T04:26:48.781Z"
   },
   {
    "duration": 117,
    "start_time": "2023-01-10T04:27:43.555Z"
   },
   {
    "duration": 403,
    "start_time": "2023-01-10T04:29:19.985Z"
   },
   {
    "duration": 154,
    "start_time": "2023-01-10T04:34:26.146Z"
   },
   {
    "duration": 258,
    "start_time": "2023-01-10T04:37:28.511Z"
   },
   {
    "duration": 259,
    "start_time": "2023-01-10T04:37:34.634Z"
   },
   {
    "duration": 273,
    "start_time": "2023-01-10T04:39:25.767Z"
   },
   {
    "duration": 266,
    "start_time": "2023-01-10T04:39:36.506Z"
   },
   {
    "duration": 413,
    "start_time": "2023-01-10T04:39:44.551Z"
   },
   {
    "duration": 337,
    "start_time": "2023-01-10T04:43:29.381Z"
   },
   {
    "duration": 33,
    "start_time": "2023-01-10T04:43:29.723Z"
   },
   {
    "duration": 224,
    "start_time": "2023-01-10T04:43:29.759Z"
   },
   {
    "duration": 155,
    "start_time": "2023-01-10T04:43:29.986Z"
   },
   {
    "duration": 114,
    "start_time": "2023-01-10T04:43:30.143Z"
   },
   {
    "duration": 4,
    "start_time": "2023-01-10T04:56:20.026Z"
   },
   {
    "duration": 712,
    "start_time": "2023-01-10T05:10:29.560Z"
   },
   {
    "duration": 918,
    "start_time": "2023-01-10T05:10:35.033Z"
   },
   {
    "duration": 22,
    "start_time": "2023-01-10T05:10:42.296Z"
   },
   {
    "duration": 171,
    "start_time": "2023-01-10T05:35:00.976Z"
   },
   {
    "duration": 30,
    "start_time": "2023-01-10T05:35:12.107Z"
   },
   {
    "duration": 25,
    "start_time": "2023-01-10T05:35:16.703Z"
   },
   {
    "duration": 4,
    "start_time": "2023-01-10T05:47:53.289Z"
   },
   {
    "duration": 452,
    "start_time": "2023-01-10T05:47:55.905Z"
   },
   {
    "duration": 449,
    "start_time": "2023-01-10T05:49:08.142Z"
   },
   {
    "duration": 3,
    "start_time": "2023-01-10T05:49:30.006Z"
   },
   {
    "duration": 299216,
    "start_time": "2023-01-10T06:11:56.354Z"
   },
   {
    "duration": 4,
    "start_time": "2023-01-10T06:18:07.986Z"
   },
   {
    "duration": 65518,
    "start_time": "2023-01-10T06:24:23.251Z"
   },
   {
    "duration": 5,
    "start_time": "2023-01-10T06:26:17.119Z"
   },
   {
    "duration": 202,
    "start_time": "2023-01-10T06:31:56.548Z"
   },
   {
    "duration": 65294,
    "start_time": "2023-01-10T06:32:28.570Z"
   },
   {
    "duration": 4,
    "start_time": "2023-01-10T06:44:00.229Z"
   },
   {
    "duration": 10,
    "start_time": "2023-01-10T06:47:43.525Z"
   },
   {
    "duration": 999,
    "start_time": "2023-01-10T07:00:15.076Z"
   }
  ],
  "kernelspec": {
   "display_name": "Python 3 (ipykernel)",
   "language": "python",
   "name": "python3"
  },
  "language_info": {
   "codemirror_mode": {
    "name": "ipython",
    "version": 3
   },
   "file_extension": ".py",
   "mimetype": "text/x-python",
   "name": "python",
   "nbconvert_exporter": "python",
   "pygments_lexer": "ipython3",
   "version": "3.9.15"
  },
  "toc": {
   "base_numbering": 1,
   "nav_menu": {},
   "number_sections": true,
   "sideBar": true,
   "skip_h1_title": true,
   "title_cell": "Table of Contents",
   "title_sidebar": "Contents",
   "toc_cell": false,
   "toc_position": {
    "height": "calc(100% - 180px)",
    "left": "10px",
    "top": "150px",
    "width": "286.075px"
   },
   "toc_section_display": true,
   "toc_window_display": true
  }
 },
 "nbformat": 4,
 "nbformat_minor": 4
}
